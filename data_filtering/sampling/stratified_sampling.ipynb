{
 "cells": [
  {
   "cell_type": "code",
   "execution_count": 1,
   "metadata": {},
   "outputs": [],
   "source": [
    "import torch\n",
    "from tqdm import tqdm\n",
    "from torch.nn.functional import normalize\n",
    "import numpy as np\n",
    "import clip\n",
    "from PIL import Image\n",
    "from torch.utils.data import Dataset, DataLoader\n",
    "import cv2\n",
    "from base64 import b64encode, b64decode\n",
    "import pandas as pd\n",
    "device = \"cuda\" if torch.cuda.is_available() else \"cpu\"\n",
    "\n",
    "feature_dir = './data-engine/precomputed_features'\n",
    "clip_feature = np.load(f'{feature_dir}/existing-data-clip-feature.npy')\n",
    "color_feature = np.load(f'{feature_dir}/existing-data-clip-feature.npy')\n",
    "\n",
    "all_features = clip_feature\n",
    "all_features = np.concatenate([clip_feature, color_feature], axis=1)"
   ]
  },
  {
   "cell_type": "code",
   "execution_count": 2,
   "metadata": {},
   "outputs": [
    {
     "name": "stdout",
     "output_type": "stream",
     "text": [
      "611934 512\n"
     ]
    }
   ],
   "source": [
    "class ChartDataset(Dataset):\n",
    "    def __init__(self, img_dir, img_paths, all_features):\n",
    "        self.img_dir = img_dir\n",
    "        self.img_paths = img_paths\n",
    "        self.features = all_features\n",
    "        \n",
    "    def __len__(self):\n",
    "        return len(self.img_paths)\n",
    "    \n",
    "    def __getitem__(self, idx):\n",
    "        img_path = f\"{self.img_dir}/{self.img_paths[idx]}\"\n",
    "        features = self.features[idx]\n",
    "        return features, img_path, idx  # Return the filename as well\n",
    "\n",
    "img_dir = '~/LLaVA/playground/data/unichart-pretrain-data/content/images'\n",
    "data = pd.read_csv('~/LLaVA/data-engine/precomputed_features/existing-data-imgnames.csv')\n",
    "img_paths = data['imgname']\n",
    "dataset = ChartDataset(img_dir, img_paths, all_features)\n",
    "dataset_size, emb_size = all_features.shape\n",
    "print(dataset_size, emb_size)"
   ]
  },
  {
   "cell_type": "code",
   "execution_count": 3,
   "metadata": {},
   "outputs": [],
   "source": [
    "from torch.nn.functional import normalize\n",
    "\n",
    "path_str_type = 'U200'  # 假设路径字符串最长为200个字符\n",
    "\n",
    "save_dir = r'./sample_files'\n",
    "\n",
    "# Setting up memory-mapped files\n",
    "emb_memory_loc = f'{save_dir}/embeddings_memmap.dat'\n",
    "paths_memory_loc = f'{save_dir}/paths_memmap.dat'\n",
    "\n",
    "emd_memmap = np.memmap(emb_memory_loc, dtype='float32', mode='w+', shape=(dataset_size, emb_size))\n",
    "paths_memmap = np.memmap(paths_memory_loc, dtype=path_str_type, mode='w+', shape=(dataset_size,))\n"
   ]
  },
  {
   "cell_type": "code",
   "execution_count": 4,
   "metadata": {},
   "outputs": [
    {
     "name": "stderr",
     "output_type": "stream",
     "text": [
      "  0%|          | 0/60 [00:00<?, ?it/s]/tmp/ipykernel_2217/2031757989.py:6: UserWarning: To copy construct from a tensor, it is recommended to use sourceTensor.clone().detach() or sourceTensor.clone().detach().requires_grad_(True), rather than torch.tensor(sourceTensor).\n",
      "  features = torch.tensor(features, dtype=torch.float32)\n",
      "100%|██████████| 60/60 [01:19<00:00,  1.33s/it]\n"
     ]
    }
   ],
   "source": [
    "dataloader = DataLoader(dataset, batch_size=10240, shuffle=False, num_workers=8)\n",
    "for features, path, idx in tqdm(dataloader):\n",
    "        if any(i >= dataset_size for i in idx):\n",
    "            raise IndexError(f\"Index {idx} out of range for dataset size {dataset_size}\")\n",
    "        \n",
    "        features = torch.tensor(features, dtype=torch.float32)\n",
    "        emd_memmap[idx] = normalize(features.unsqueeze(0), dim=1).cpu()\n",
    "        paths_memmap[idx] = path\n"
   ]
  },
  {
   "cell_type": "code",
   "execution_count": 5,
   "metadata": {},
   "outputs": [
    {
     "name": "stdout",
     "output_type": "stream",
     "text": [
      "Running Kmeans clustering using faiss on dataset of shape (611934, 512) ....\n",
      "Kmeans parameters: {'data': memmap([[-0.01660688, -0.01851731,  0.01089192, ...,  0.00799155,\n",
      "          0.0202777 , -0.00223273],\n",
      "        [ 0.00667938, -0.01185627,  0.00756514, ...,  0.00679741,\n",
      "          0.0085193 ,  0.03099752],\n",
      "        [-0.02928183, -0.00341169, -0.00028369, ...,  0.0108927 ,\n",
      "          0.00254303,  0.01811059],\n",
      "        ...,\n",
      "        [-0.01029516,  0.00058201, -0.0117059 , ...,  0.00969967,\n",
      "          0.01243755, -0.00898463],\n",
      "        [-0.02057116, -0.00605767, -0.01089924, ...,  0.00559856,\n",
      "          0.01510197, -0.01349618],\n",
      "        [-0.01501139,  0.00198137, -0.00944601, ...,  0.00906353,\n",
      "          0.02739928, -0.01194653]], dtype=float32), 'ncentroids': 100, 'niter': 100, 'seed': 1234, 'Kmeans_with_cos_dist': True, 'save_folder': './630/kmeans', 'logger': <Logger __main__ (WARNING)>, 'verbose': True} ....\n",
      "Clustering on cpu ....\n",
      "Sampling a subset of 25600 / 611934 for training\n",
      "Clustering 25600 points in 512D to 100 clusters, redo 1 times, 100 iterations\n",
      "  Preprocessing in 0.54 s\n",
      "Time for clustering (mins): 0.4922.27 s): objective=3957.69 imbalance=1.344 nsplit=0       \n",
      "faiss kmeans index to store: <class 'faiss.swigfaiss_avx512.IndexFlatIP'>\n",
      "  Iteration 99 (28.90 s, search 22.48 s): objective=3957.69 imbalance=1.344 nsplit=0       \n",
      "Saved!\n",
      "Time for finding nearest centroid for each data point (mins): 0.08\n"
     ]
    },
    {
     "data": {
      "text/plain": [
       "<faiss.extra_wrappers.Kmeans at 0x7f573030a690>"
      ]
     },
     "execution_count": 5,
     "metadata": {},
     "output_type": "execute_result"
    }
   ],
   "source": [
    "import yaml\n",
    "import random\n",
    "import numpy as np\n",
    "import logging\n",
    "from clustering import compute_centroids\n",
    "\n",
    "logger = logging.getLogger(__name__) \n",
    "logger.addHandler(logging.StreamHandler())\n",
    "\n",
    "# confg_file = \"configs/openclip/clustering_configs.yaml\"\n",
    "# ## -- Load kmeans clustering parameters from configs file\n",
    "# with open(confg_file, 'r') as y_file:\n",
    "#     params = yaml.load(y_file, Loader=yaml.FullLoader)\n",
    "\n",
    "## -- Fix the seed\n",
    "\n",
    "SEED = 1234\n",
    "random.seed(SEED)\n",
    "emb_memory_loc = f'{save_dir}/embeddings_memmap.dat'\n",
    "paths_memory_loc = f'{save_dir}/paths_memmap.dat'\n",
    "dataset_size, emb_size = all_features.shape\n",
    "path_str_type = \"U200\"\n",
    "\n",
    "emb_memory = np.memmap(emb_memory_loc, dtype='float32', mode='r', shape=(dataset_size, emb_size))\n",
    "paths_memory = np.memmap(paths_memory_loc, dtype=path_str_type, mode='r', shape=(dataset_size,))\n",
    "\n",
    "save_folder = f'{save_dir}/kmeans'\n",
    "compute_centroids(\n",
    "    data=emb_memory,\n",
    "    ncentroids=100,\n",
    "    niter=100,\n",
    "    seed=SEED,\n",
    "    Kmeans_with_cos_dist=True,\n",
    "    save_folder=save_folder,\n",
    "    logger=logger,\n",
    "    verbose=True,\n",
    ")"
   ]
  },
  {
   "cell_type": "code",
   "execution_count": null,
   "metadata": {},
   "outputs": [],
   "source": [
    "from sort_clusters import assign_and_sort_clusters\n",
    "\n",
    "    \n",
    "assign_and_sort_clusters(\n",
    "    data=emb_memory,\n",
    "    paths_list=paths_memory,\n",
    "    sim_metric='cosine',\n",
    "    keep_hard=True,\n",
    "    kmeans_with_cos_dist=True,\n",
    "    save_folder= f'{save_dir}/kmeans',\n",
    "    sorted_clusters_file_loc=f'{save_dir}/sorted_clusters',\n",
    "    cluster_ids=range(0, 100),\n",
    "    logger=logger,\n",
    ") "
   ]
  },
  {
   "cell_type": "code",
   "execution_count": 1,
   "metadata": {},
   "outputs": [],
   "source": [
    "# Copyright (c) Meta Platforms, Inc. and affiliates.\n",
    "# All rights reserved.\n",
    "\n",
    "# This source code is licensed under the license found in the\n",
    "# LICENSE file in the root directory of this source tree.\n",
    "\n",
    "import math\n",
    "import os\n",
    "import numpy as np\n",
    "import pandas as pd\n",
    "import submitit\n",
    "import torch\n",
    "from tqdm import tqdm\n",
    "import pickle\n",
    "import random\n",
    "import math\n",
    "import time\n",
    "import pprint\n",
    "\n",
    "# Copyright (c) Meta Platforms, Inc. and affiliates.\n",
    "# All rights reserved.\n",
    "\n",
    "# This source code is licensed under the license found in the\n",
    "# LICENSE file in the root directory of this source tree.\n",
    "\n",
    "IMAGE_NAME_INDEX = 0\n",
    "IMAGE_ID_IN_CLUSTER_INDEX = 1\n",
    "DIST_METRIC_INDEX = 2\n",
    "CLUSTER_NUM_INDEX = 3\n",
    "\n",
    "\n",
    "FINAL_EPS = {\n",
    "    0.059: 0.5,\n",
    "    0.060: 0.5,\n",
    "    0.061: 0.5,\n",
    "    0.062: 0.5,\n",
    "    0.063: 0.5,\n",
    "    0.065: 0.5,\n",
    "    0.07: 0.5,\n",
    "}\n",
    "\n",
    "# FINAL_EPS = {\n",
    "#     0.00095: 0.796314,\n",
    "#     0.0395: 0.701809,\n",
    "#     0.03: 0.720969,\n",
    "#     0.07: 0.633638,\n",
    "#     0.083: 0.602154,\n",
    "#     0.124: 0.499306,\n",
    "#     0.165: 0.397715,\n",
    "#     0.205: 0.305327,\n",
    "#     0.26: 0.197576,\n",
    "# }\n",
    "\n",
    "\n",
    "\n",
    "def init_memmap_embs(\n",
    "    embs_memory_loc: str, dataset_size: int, emd_size: int = 512, dtype: str = \"float32\"\n",
    ") -> np.memmap:\n",
    "    \"\"\"\n",
    "    Initializes a memory-mapped NumPy array to read embeddings of examples.\n",
    "\n",
    "    Args:\n",
    "        embs_memory_loc (str): Path to the memory-mapped file.\n",
    "        dataset_size (int): Size of the dataset.\n",
    "\n",
    "        emd_size (int): Dimensionality of the embeddings.\n",
    "        dtype (str): Data type of the embeddings.\n",
    "\n",
    "    Returns:\n",
    "        np.memmap: A memory-mapped NumPy array.\n",
    "    \"\"\"\n",
    "    embs = np.memmap(\n",
    "        embs_memory_loc, dtype=dtype, mode=\"r\", shape=(dataset_size, emd_size)\n",
    "    )\n",
    "    return embs\n",
    "\n",
    "\n",
    "class SemDeDupJob(submitit.helpers.Checkpointable):\n",
    "    \"\"\"\n",
    "    - Each SLURMJob will run SemDeDup on number of clusters and save dataframe with which examples to keep from each cluster.\n",
    "    - Parallelize job_start_cluster across jobs so that preemption in the middle of an epoch isn't a problem and because we want to\n",
    "    keep the shard structure anyway.\n",
    "    - Process more than one cluster per job=> run multiple taks inside each jobs.\n",
    "    - Preempted jobs get resubmitted. Already precessed clusters get skipped internally.\n",
    "    \"\"\"\n",
    "\n",
    "    def __init__(self, args, job_start_cluster: int):\n",
    "        self.args = args\n",
    "        self.job_start_cluster = job_start_cluster\n",
    "        random.seed(args.seed)\n",
    "\n",
    "    def _contains_duplicates(self, arr):\n",
    "        return len(np.unique(arr)) != len(arr)\n",
    "\n",
    "    def _contains_duplicates(self, arr):\n",
    "        # 使用集合来检测重复项\n",
    "        seen = set()\n",
    "        duplicates = set()\n",
    "        for item in arr:\n",
    "            if item in seen:\n",
    "                duplicates.add(item)\n",
    "            else:\n",
    "                seen.add(item)\n",
    "        if duplicates:\n",
    "            print(\"Duplicates found:\", duplicates)\n",
    "            return True\n",
    "        return False\n",
    "\n",
    "    def semdedup(self, cluster, cluster_reps, device):\n",
    "        st = time.time()\n",
    "        ## -- compute pairwise cos sim between cluster items, then replace to diagonal with zeros to ignore self similarity\n",
    "        cluster_reps.to(device)\n",
    "\n",
    "        norms = torch.norm(cluster_reps, dim=1, keepdim=True)\n",
    "        # 归一化每一行\n",
    "        cluster_reps = cluster_reps / norms\n",
    "\n",
    "        pair_w_sim_matrix = cluster_reps @ (cluster_reps.T)\n",
    "        print(pair_w_sim_matrix)\n",
    "        del cluster_reps\n",
    "        pair_w_sim_matrix.fill_diagonal_(0.0)\n",
    "        assert pair_w_sim_matrix.shape[0] == pair_w_sim_matrix.shape[1]\n",
    "\n",
    "        ## -- get paths to cluster i images\n",
    "        image_urls = cluster[:, 0]\n",
    "\n",
    "        ## -- make sure all the paths are unique this ensure that the duplicates are really stored many time times on memory\n",
    "        # try:\n",
    "        #     assert not self._contains_duplicates(image_urls)\n",
    "        # except:\n",
    "        #     print('1')\n",
    "\n",
    "        ## -- We need upper tringular matrix because (1)we don't need to look at self sim (always=1) (2)we need the compinations not permutations\n",
    "\n",
    "        triu_sim_mat = torch.triu(pair_w_sim_matrix, diagonal=1)\n",
    "\n",
    "        ## -- if the max sim between one example and any other example is > 1-eps, remove this example\n",
    "        M = torch.max(triu_sim_mat, dim=0)[0].cpu()\n",
    "        print(f\"Step time: {time.time()-st}(s)\")\n",
    "        print('===================')\n",
    "        print(M)\n",
    "        print('===================')\n",
    "        return M\n",
    "\n",
    "    def _process_shard(self, start_cluster: int, end_cluster: int):\n",
    "        # print(\"SemDeDup params: \", self.args)\n",
    "        st = time.time()\n",
    "\n",
    "        embs = init_memmap_embs(\n",
    "            self.args.embs_memory_loc, self.args.dataset_size, self.args.emd_size\n",
    "        )\n",
    "\n",
    "        step_time = []\n",
    "\n",
    "        for cluster_id in tqdm(range(start_cluster, end_cluster)):\n",
    "            step_st = time.time()\n",
    "\n",
    "            df_file_loc = os.path.join(\n",
    "                self.args.save_loc, f\"cluster_{cluster_id}.pkl\"\n",
    "            )\n",
    "\n",
    "            if os.path.exists(df_file_loc):  # and os.path.exists(dict_file_loc):\n",
    "                print(f\"{df_file_loc} exists, moving on\")\n",
    "                continue\n",
    "\n",
    "            ## -- load cluster i representations\n",
    "            cluster_i = np.load(\n",
    "                os.path.join(\n",
    "                    self.args.sorted_clusters_path, f\"cluster_{cluster_id}.npy\"\n",
    "                )\n",
    "            )\n",
    "            # 1) store cluster size\n",
    "            cluster_size = cluster_i.shape[0]\n",
    "            print(\"cluster_size: \", cluster_size)\n",
    "\n",
    "            if cluster_size == 1:\n",
    "                points_to_remove_df = pd.DataFrame()\n",
    "                points_to_remove_df[\"indices\"] = [0]\n",
    "                for eps in self.args.eps_list:\n",
    "                    ## We need to remove a point from the dataset when its pairwise similarity to other point is > 1-ebs\n",
    "                    points_to_remove_df[f\"eps={eps}\"] = [False]\n",
    "                if self.args.save_loc != \"\":\n",
    "                    ## --save df\n",
    "                    with open(df_file_loc, \"wb\") as file:\n",
    "                        pickle.dump(points_to_remove_df, file)\n",
    "                print(\"DONE cluster_id \", cluster_id)\n",
    "                continue\n",
    "\n",
    "            ## -- By default, we keep hard examples from groups\n",
    "            clutser_items_indices = list(range(cluster_size))\n",
    "            ## -- OR: shuffle cluster to keep random example from each group\n",
    "            if self.args.which_to_keep.lower() == \"random\":\n",
    "                random.shuffle(clutser_items_indices)\n",
    "                cluster_i = cluster_i[clutser_items_indices]\n",
    "            ## -- OR: reverse cluster to keep easy examples\n",
    "            if self.args.which_to_keep.lower() == \"easy\":\n",
    "                clutser_items_indices = clutser_items_indices[::-1]\n",
    "                cluster_i = cluster_i[clutser_items_indices]\n",
    "\n",
    "            ## -- indices for cluster items in the dataset\n",
    "            cluster_ids = cluster_i[:, 1].astype(\"int32\")\n",
    "            cluster_reps = embs[cluster_ids]\n",
    "            cluster_reps = torch.tensor(cluster_reps)\n",
    "\n",
    "            M = self.semdedup(cluster_i, cluster_reps, self.args.device)\n",
    "\n",
    "            points_to_remove_df = pd.DataFrame()\n",
    "            points_to_remove_df[\"indices\"] = clutser_items_indices\n",
    "\n",
    "            for eps in self.args.eps_list:\n",
    "                ## -- 5) We need to remove a point from the dataset when its pairwise similarity to other point is > 1-ebs\n",
    "                eps_points_to_remove = M > 1 - eps\n",
    "                points_to_remove_df[f\"eps={eps}\"] = eps_points_to_remove\n",
    "\n",
    "            if self.args.save_loc != \"\":\n",
    "                ## --save df\n",
    "                with open(df_file_loc, \"wb\") as file:\n",
    "                    pickle.dump(points_to_remove_df, file)\n",
    "\n",
    "            # step_time.append_cluster(time.time() - step_st)\n",
    "            step_time.append(time.time() - step_st)\n",
    "            print(\"DONE cluster: \", cluster_id)\n",
    "\n",
    "        # print(\n",
    "        #     f\"DONE in {((time.time()-st)/60):.2f} minutes, Average Step time {(sum(step_time)/len(step_time)):.2f}(s)\"\n",
    "        # )\n",
    "        return\n",
    "\n",
    "   \n",
    "    def __call__(self):\n",
    "        # pp = pprint.PrettyPrinter(indent=4)\n",
    "        # pp.pprint(vars(self.args))\n",
    "        job_start_cluster = self.job_start_cluster\n",
    "\n",
    "        print(\n",
    "            f\"This job will process clusters {job_start_cluster} to  {min(self.args.num_clusters, job_start_cluster+self.args.clusters_per_job)}\"\n",
    "        )\n",
    "\n",
    "        # job_env = submitit.JobEnvironment()\n",
    "\n",
    "        # print(f\"There are {job_env.num_tasks} tasks in this job\")\n",
    "\n",
    "        # print(f\"I'm the task #{job_env.local_rank} on node {job_env.node}\")\n",
    "        # print(f\"I'm the task #{job_env.global_rank} in the job\")\n",
    "\n",
    "        ## divide clusters across tasks (cpus)\n",
    "        num_clusters_per_task = 1 #int(\n",
    "        #     math.ceil(self.args.clusters_per_job / job_env.num_tasks)\n",
    "        # )\n",
    "        task_rank = 0\n",
    "        start_cluster = job_start_cluster + task_rank * num_clusters_per_task\n",
    "        end_cluster = job_start_cluster + (task_rank + 1) * num_clusters_per_task\n",
    "        end_cluster = min(self.args.num_clusters, end_cluster)\n",
    "        end_cluster = min(end_cluster, job_start_cluster + self.args.clusters_per_job)\n",
    "        print(\n",
    "            f\"This task will process {num_clusters_per_task} clusters: cluster {start_cluster} to cluster {end_cluster}\"\n",
    "        )\n",
    "        print(\n",
    "            f\"This task will process cluster {start_cluster} to cluster {end_cluster}\"\n",
    "        )\n",
    "\n",
    "        self._process_shard(start_cluster, end_cluster)\n"
   ]
  },
  {
   "cell_type": "code",
   "execution_count": 2,
   "metadata": {},
   "outputs": [],
   "source": [
    "import numpy as np"
   ]
  },
  {
   "cell_type": "code",
   "execution_count": 5,
   "metadata": {},
   "outputs": [
    {
     "data": {
      "text/plain": [
       "array([['/hpc2hdd/home/xzeng159/projects/LLaVA/playground/data/unichart-pretrain-data/content/images/0652d757c19bc62a3945b0dec17239a3_Y29sbGFib3JhdGlvbi5pZGZnLmlkYWhvLmdvdgkxNjQuMTY1LjY2Ljkx-0-3.png',\n",
       "        '550140', '0.9112241864204407', '0'],\n",
       "       ['/hpc2hdd/home/xzeng159/projects/LLaVA/playground/data/unichart-pretrain-data/content/images/OWID_Line_29975515006620.png',\n",
       "        '84687', '0.910896360874176', '0'],\n",
       "       ['/hpc2hdd/home/xzeng159/projects/LLaVA/playground/data/unichart-pretrain-data/content/images/OWID_Line_29975515006623.png',\n",
       "        '84688', '0.9057799577713013', '0'],\n",
       "       ...,\n",
       "       ['/hpc2hdd/home/xzeng159/projects/LLaVA/playground/data/unichart-pretrain-data/content/images/OWID_Bar_16146648007068.png',\n",
       "        '48271', '0.771998405456543', '0'],\n",
       "       ['/hpc2hdd/home/xzeng159/projects/LLaVA/playground/data/unichart-pretrain-data/content/images/OWID_Bar_16146648007067.png',\n",
       "        '48270', '0.7715266942977905', '0'],\n",
       "       ['/hpc2hdd/home/xzeng159/projects/LLaVA/playground/data/unichart-pretrain-data/content/images/5ce15df71e675fd038c26359c8d18d6d_d3d3LmVpYS5nb3YJMjMuMjAwLjIyOC41NQ==.xls-0-1.png',\n",
       "        '606070', '0.7697759866714478', '0']], dtype='<U200')"
      ]
     },
     "execution_count": 5,
     "metadata": {},
     "output_type": "execute_result"
    }
   ],
   "source": [
    "test_data = np.load('630/sorted_clusters/cluster_0.npy')\n",
    "test_data"
   ]
  },
  {
   "cell_type": "code",
   "execution_count": 10,
   "metadata": {},
   "outputs": [
    {
     "name": "stdout",
     "output_type": "stream",
     "text": [
      "STARTING JOB:  0\n",
      "This job will process clusters 0 to  1\n",
      "This task will process 1 clusters: cluster 0 to cluster 1\n",
      "This task will process cluster 0 to cluster 1\n"
     ]
    },
    {
     "name": "stderr",
     "output_type": "stream",
     "text": [
      "  0%|          | 0/1 [00:00<?, ?it/s]"
     ]
    },
    {
     "name": "stdout",
     "output_type": "stream",
     "text": [
      "cluster_size:  5419\n",
      "tensor([[1.0000, 0.2436, 0.2289,  ..., 0.2860, 0.2606, 0.2851],\n",
      "        [0.2436, 1.0000, 0.9584,  ..., 0.2763, 0.2677, 0.1968],\n",
      "        [0.2289, 0.9584, 1.0000,  ..., 0.3116, 0.2863, 0.1976],\n",
      "        ...,\n",
      "        [0.2860, 0.2763, 0.3116,  ..., 1.0000, 0.9350, 0.6797],\n",
      "        [0.2606, 0.2677, 0.2863,  ..., 0.9350, 1.0000, 0.6628],\n",
      "        [0.2851, 0.1968, 0.1976,  ..., 0.6797, 0.6628, 1.0000]])\n",
      "Step time: 0.17948198318481445(s)\n",
      "===================\n",
      "tensor([0.0000, 0.2436, 0.9584,  ..., 0.9625, 0.9519, 0.9793])\n",
      "===================\n"
     ]
    },
    {
     "name": "stderr",
     "output_type": "stream",
     "text": [
      "100%|██████████| 1/1 [00:00<00:00,  4.54it/s]\n"
     ]
    },
    {
     "name": "stdout",
     "output_type": "stream",
     "text": [
      "DONE cluster:  0\n",
      "STARTING JOB:  1\n",
      "This job will process clusters 1 to  2\n",
      "This task will process 1 clusters: cluster 1 to cluster 2\n",
      "This task will process cluster 1 to cluster 2\n"
     ]
    },
    {
     "name": "stderr",
     "output_type": "stream",
     "text": [
      "  0%|          | 0/1 [00:00<?, ?it/s]"
     ]
    },
    {
     "name": "stdout",
     "output_type": "stream",
     "text": [
      "cluster_size:  13630\n",
      "tensor([[1.0000, 0.1700, 0.3490,  ..., 0.4361, 0.4199, 0.3883],\n",
      "        [0.1700, 1.0000, 0.3726,  ..., 0.3202, 0.3845, 0.4142],\n",
      "        [0.3490, 0.3726, 1.0000,  ..., 0.4517, 0.4601, 0.4372],\n",
      "        ...,\n",
      "        [0.4361, 0.3202, 0.4517,  ..., 1.0000, 0.8453, 0.8286],\n",
      "        [0.4199, 0.3845, 0.4601,  ..., 0.8453, 1.0000, 0.8951],\n",
      "        [0.3883, 0.4142, 0.4372,  ..., 0.8286, 0.8951, 1.0000]])\n",
      "Step time: 0.32383203506469727(s)\n",
      "===================\n",
      "tensor([0.0000, 0.1700, 0.3726,  ..., 0.8998, 0.9400, 0.8995])\n",
      "===================\n"
     ]
    },
    {
     "name": "stderr",
     "output_type": "stream",
     "text": [
      "100%|██████████| 1/1 [00:00<00:00,  1.68it/s]\n"
     ]
    },
    {
     "name": "stdout",
     "output_type": "stream",
     "text": [
      "DONE cluster:  1\n",
      "STARTING JOB:  2\n",
      "This job will process clusters 2 to  3\n",
      "This task will process 1 clusters: cluster 2 to cluster 3\n",
      "This task will process cluster 2 to cluster 3\n"
     ]
    },
    {
     "name": "stderr",
     "output_type": "stream",
     "text": [
      "  0%|          | 0/1 [00:00<?, ?it/s]"
     ]
    },
    {
     "name": "stdout",
     "output_type": "stream",
     "text": [
      "cluster_size:  5723\n",
      "tensor([[1.0000, 0.1069, 0.7361,  ..., 0.3239, 0.3222, 0.3288],\n",
      "        [0.1069, 1.0000, 0.1388,  ..., 0.4147, 0.4161, 0.4324],\n",
      "        [0.7361, 0.1388, 1.0000,  ..., 0.3098, 0.3093, 0.3200],\n",
      "        ...,\n",
      "        [0.3239, 0.4147, 0.3098,  ..., 1.0000, 0.9915, 0.9695],\n",
      "        [0.3222, 0.4161, 0.3093,  ..., 0.9915, 1.0000, 0.9565],\n",
      "        [0.3288, 0.4324, 0.3200,  ..., 0.9695, 0.9565, 1.0000]])\n",
      "Step time: 0.0949101448059082(s)\n",
      "===================\n",
      "tensor([0.0000, 0.1069, 0.7361,  ..., 0.9925, 0.9915, 0.9937])\n",
      "===================\n"
     ]
    },
    {
     "name": "stderr",
     "output_type": "stream",
     "text": [
      "100%|██████████| 1/1 [00:00<00:00,  5.05it/s]\n"
     ]
    },
    {
     "name": "stdout",
     "output_type": "stream",
     "text": [
      "DONE cluster:  2\n",
      "STARTING JOB:  3\n",
      "This job will process clusters 3 to  4\n",
      "This task will process 1 clusters: cluster 3 to cluster 4\n",
      "This task will process cluster 3 to cluster 4\n"
     ]
    },
    {
     "name": "stderr",
     "output_type": "stream",
     "text": [
      "  0%|          | 0/1 [00:00<?, ?it/s]"
     ]
    },
    {
     "name": "stdout",
     "output_type": "stream",
     "text": [
      "cluster_size:  4412\n"
     ]
    },
    {
     "name": "stderr",
     "output_type": "stream",
     "text": [
      "100%|██████████| 1/1 [00:00<00:00,  5.31it/s]\n"
     ]
    },
    {
     "name": "stdout",
     "output_type": "stream",
     "text": [
      "tensor([[1.0000, 0.2105, 0.1468,  ..., 0.2755, 0.2876, 0.2781],\n",
      "        [0.2105, 1.0000, 0.2133,  ..., 0.2626, 0.2738, 0.2968],\n",
      "        [0.1468, 0.2133, 1.0000,  ..., 0.2161, 0.2702, 0.2869],\n",
      "        ...,\n",
      "        [0.2755, 0.2626, 0.2161,  ..., 1.0000, 0.7318, 0.8205],\n",
      "        [0.2876, 0.2738, 0.2702,  ..., 0.7318, 1.0000, 0.7545],\n",
      "        [0.2781, 0.2968, 0.2869,  ..., 0.8205, 0.7545, 1.0000]])\n",
      "Step time: 0.012387752532958984(s)\n",
      "===================\n",
      "tensor([0.0000, 0.2105, 0.2133,  ..., 0.9682, 0.9982, 0.9896])\n",
      "===================\n",
      "DONE cluster:  3\n",
      "STARTING JOB:  4\n",
      "This job will process clusters 4 to  5\n",
      "This task will process 1 clusters: cluster 4 to cluster 5\n",
      "This task will process cluster 4 to cluster 5\n"
     ]
    },
    {
     "name": "stderr",
     "output_type": "stream",
     "text": [
      "  0%|          | 0/1 [00:00<?, ?it/s]"
     ]
    },
    {
     "name": "stdout",
     "output_type": "stream",
     "text": [
      "cluster_size:  3298\n",
      "tensor([[1.0000, 0.2687, 0.2831,  ..., 0.3824, 0.4155, 0.3972],\n",
      "        [0.2687, 1.0000, 0.2065,  ..., 0.4225, 0.4039, 0.4242],\n",
      "        [0.2831, 0.2065, 1.0000,  ..., 0.3586, 0.4199, 0.4123],\n",
      "        ...,\n",
      "        [0.3824, 0.4225, 0.3586,  ..., 1.0000, 0.9140, 0.9244],\n",
      "        [0.4155, 0.4039, 0.4199,  ..., 0.9140, 1.0000, 0.9817],\n",
      "        [0.3972, 0.4242, 0.4123,  ..., 0.9244, 0.9817, 1.0000]])\n"
     ]
    },
    {
     "name": "stderr",
     "output_type": "stream",
     "text": [
      "100%|██████████| 1/1 [00:00<00:00,  9.80it/s]\n"
     ]
    },
    {
     "name": "stdout",
     "output_type": "stream",
     "text": [
      "Step time: 0.08194589614868164(s)\n",
      "===================\n",
      "tensor([0.0000, 0.2687, 0.2831,  ..., 0.9725, 0.9811, 0.9817])\n",
      "===================\n",
      "DONE cluster:  4\n",
      "STARTING JOB:  5\n",
      "This job will process clusters 5 to  6\n",
      "This task will process 1 clusters: cluster 5 to cluster 6\n",
      "This task will process cluster 5 to cluster 6\n"
     ]
    },
    {
     "name": "stderr",
     "output_type": "stream",
     "text": [
      "  0%|          | 0/1 [00:00<?, ?it/s]"
     ]
    },
    {
     "name": "stdout",
     "output_type": "stream",
     "text": [
      "cluster_size:  3668\n",
      "tensor([[1.0000, 0.9803, 0.1455,  ..., 0.1924, 0.1781, 0.2356],\n",
      "        [0.9803, 1.0000, 0.1526,  ..., 0.2037, 0.1829, 0.2327],\n",
      "        [0.1455, 0.1526, 1.0000,  ..., 0.1701, 0.1166, 0.2125],\n",
      "        ...,\n",
      "        [0.1924, 0.2037, 0.1701,  ..., 1.0000, 0.7388, 0.7214],\n",
      "        [0.1781, 0.1829, 0.1166,  ..., 0.7388, 1.0000, 0.6753],\n",
      "        [0.2356, 0.2327, 0.2125,  ..., 0.7214, 0.6753, 1.0000]])\n",
      "Step time: 0.009508609771728516(s)\n",
      "===================\n",
      "tensor([0.0000, 0.9803, 0.1526,  ..., 0.9786, 0.7686, 0.8384])\n",
      "===================\n"
     ]
    },
    {
     "name": "stderr",
     "output_type": "stream",
     "text": [
      "100%|██████████| 1/1 [00:00<00:00,  9.34it/s]\n"
     ]
    },
    {
     "name": "stdout",
     "output_type": "stream",
     "text": [
      "DONE cluster:  5\n",
      "STARTING JOB:  6\n",
      "This job will process clusters 6 to  7\n",
      "This task will process 1 clusters: cluster 6 to cluster 7\n",
      "This task will process cluster 6 to cluster 7\n"
     ]
    },
    {
     "name": "stderr",
     "output_type": "stream",
     "text": [
      "  0%|          | 0/1 [00:00<?, ?it/s]"
     ]
    },
    {
     "name": "stdout",
     "output_type": "stream",
     "text": [
      "cluster_size:  4675\n",
      "tensor([[1.0000, 0.1196, 0.2858,  ..., 0.2138, 0.2214, 0.2166],\n",
      "        [0.1196, 1.0000, 0.1576,  ..., 0.2523, 0.2902, 0.2703],\n",
      "        [0.2858, 0.1576, 1.0000,  ..., 0.3120, 0.3231, 0.3433],\n",
      "        ...,\n",
      "        [0.2138, 0.2523, 0.3120,  ..., 1.0000, 0.8903, 0.9138],\n",
      "        [0.2214, 0.2902, 0.3231,  ..., 0.8903, 1.0000, 0.9129],\n",
      "        [0.2166, 0.2703, 0.3433,  ..., 0.9138, 0.9129, 1.0000]])\n",
      "Step time: 0.08900189399719238(s)\n",
      "===================\n",
      "tensor([0.0000, 0.1196, 0.2858,  ..., 0.9828, 0.9868, 0.9773])\n",
      "===================\n"
     ]
    },
    {
     "name": "stderr",
     "output_type": "stream",
     "text": [
      "100%|██████████| 1/1 [00:00<00:00,  5.27it/s]\n"
     ]
    },
    {
     "name": "stdout",
     "output_type": "stream",
     "text": [
      "DONE cluster:  6\n",
      "STARTING JOB:  7\n",
      "This job will process clusters 7 to  8\n",
      "This task will process 1 clusters: cluster 7 to cluster 8\n",
      "This task will process cluster 7 to cluster 8\n"
     ]
    },
    {
     "name": "stderr",
     "output_type": "stream",
     "text": [
      "  0%|          | 0/1 [00:00<?, ?it/s]"
     ]
    },
    {
     "name": "stdout",
     "output_type": "stream",
     "text": [
      "cluster_size:  8606\n",
      "tensor([[1.0000, 0.3140, 0.2409,  ..., 0.3155, 0.3015, 0.3162],\n",
      "        [0.3140, 1.0000, 0.2458,  ..., 0.3156, 0.2886, 0.3158],\n",
      "        [0.2409, 0.2458, 1.0000,  ..., 0.3302, 0.2670, 0.2353],\n",
      "        ...,\n",
      "        [0.3155, 0.3156, 0.3302,  ..., 1.0000, 0.7714, 0.6407],\n",
      "        [0.3015, 0.2886, 0.2670,  ..., 0.7714, 1.0000, 0.6610],\n",
      "        [0.3162, 0.3158, 0.2353,  ..., 0.6407, 0.6610, 1.0000]])\n"
     ]
    },
    {
     "name": "stderr",
     "output_type": "stream",
     "text": [
      "100%|██████████| 1/1 [00:00<00:00,  2.60it/s]"
     ]
    },
    {
     "name": "stdout",
     "output_type": "stream",
     "text": [
      "Step time: 0.19112205505371094(s)\n",
      "===================\n",
      "tensor([0.0000, 0.3140, 0.2458,  ..., 0.8567, 0.8746, 0.7582])\n",
      "===================\n",
      "DONE cluster:  7\n",
      "STARTING JOB:  8\n",
      "This job will process clusters 8 to  9\n",
      "This task will process 1 clusters: cluster 8 to cluster 9\n",
      "This task will process cluster 8 to cluster 9\n"
     ]
    },
    {
     "name": "stderr",
     "output_type": "stream",
     "text": [
      "\n",
      "  0%|          | 0/1 [00:00<?, ?it/s]"
     ]
    },
    {
     "name": "stdout",
     "output_type": "stream",
     "text": [
      "cluster_size:  2509\n",
      "tensor([[1.0000, 0.1565, 0.1828,  ..., 0.2646, 0.2414, 0.1707],\n",
      "        [0.1565, 1.0000, 0.2305,  ..., 0.2080, 0.2755, 0.2445],\n",
      "        [0.1828, 0.2305, 1.0000,  ..., 0.2068, 0.2249, 0.2121],\n",
      "        ...,\n",
      "        [0.2646, 0.2080, 0.2068,  ..., 1.0000, 0.7207, 0.4571],\n",
      "        [0.2414, 0.2755, 0.2249,  ..., 0.7207, 1.0000, 0.5008],\n",
      "        [0.1707, 0.2445, 0.2121,  ..., 0.4571, 0.5008, 1.0000]])\n",
      "Step time: 0.005811452865600586(s)\n",
      "===================\n",
      "tensor([0.0000, 0.1565, 0.2305,  ..., 0.7620, 0.9451, 0.8025])\n",
      "===================\n"
     ]
    },
    {
     "name": "stderr",
     "output_type": "stream",
     "text": [
      "100%|██████████| 1/1 [00:00<00:00, 10.64it/s]\n"
     ]
    },
    {
     "name": "stdout",
     "output_type": "stream",
     "text": [
      "DONE cluster:  8\n",
      "STARTING JOB:  9\n",
      "This job will process clusters 9 to  10\n",
      "This task will process 1 clusters: cluster 9 to cluster 10\n",
      "This task will process cluster 9 to cluster 10\n"
     ]
    },
    {
     "name": "stderr",
     "output_type": "stream",
     "text": [
      "100%|██████████| 1/1 [00:00<00:00, 11.02it/s]\n"
     ]
    },
    {
     "name": "stdout",
     "output_type": "stream",
     "text": [
      "cluster_size:  2436\n",
      "tensor([[1.0000, 0.1388, 0.1227,  ..., 0.2905, 0.3067, 0.3201],\n",
      "        [0.1388, 1.0000, 0.9436,  ..., 0.3533, 0.3800, 0.3295],\n",
      "        [0.1227, 0.9436, 1.0000,  ..., 0.3575, 0.3656, 0.3212],\n",
      "        ...,\n",
      "        [0.2905, 0.3533, 0.3575,  ..., 1.0000, 0.9203, 0.9245],\n",
      "        [0.3067, 0.3800, 0.3656,  ..., 0.9203, 1.0000, 0.9073],\n",
      "        [0.3201, 0.3295, 0.3212,  ..., 0.9245, 0.9073, 1.0000]])\n",
      "Step time: 0.0041065216064453125(s)\n",
      "===================\n",
      "tensor([0.0000, 0.1388, 0.9436,  ..., 0.9751, 0.9717, 0.9693])\n",
      "===================\n",
      "DONE cluster:  9\n",
      "STARTING JOB:  10\n",
      "This job will process clusters 10 to  11\n",
      "This task will process 1 clusters: cluster 10 to cluster 11\n",
      "This task will process cluster 10 to cluster 11\n"
     ]
    },
    {
     "name": "stderr",
     "output_type": "stream",
     "text": [
      "  0%|          | 0/1 [00:00<?, ?it/s]"
     ]
    },
    {
     "name": "stdout",
     "output_type": "stream",
     "text": [
      "cluster_size:  4225\n",
      "tensor([[1.0000, 0.1777, 0.2851,  ..., 0.2716, 0.2300, 0.3394],\n",
      "        [0.1777, 1.0000, 0.2078,  ..., 0.2855, 0.3216, 0.3375],\n",
      "        [0.2851, 0.2078, 1.0000,  ..., 0.3102, 0.3456, 0.4080],\n",
      "        ...,\n",
      "        [0.2716, 0.2855, 0.3102,  ..., 1.0000, 0.7384, 0.7179],\n",
      "        [0.2300, 0.3216, 0.3456,  ..., 0.7384, 1.0000, 0.7418],\n",
      "        [0.3394, 0.3375, 0.4080,  ..., 0.7179, 0.7418, 1.0000]])\n",
      "Step time: 0.011542081832885742(s)\n",
      "===================\n",
      "tensor([0.0000, 0.1777, 0.2851,  ..., 0.8962, 0.8451, 0.8438])\n",
      "===================\n"
     ]
    },
    {
     "name": "stderr",
     "output_type": "stream",
     "text": [
      "100%|██████████| 1/1 [00:00<00:00,  9.11it/s]\n"
     ]
    },
    {
     "name": "stdout",
     "output_type": "stream",
     "text": [
      "DONE cluster:  10\n",
      "STARTING JOB:  11\n",
      "This job will process clusters 11 to  12\n",
      "This task will process 1 clusters: cluster 11 to cluster 12\n",
      "This task will process cluster 11 to cluster 12\n"
     ]
    },
    {
     "name": "stderr",
     "output_type": "stream",
     "text": [
      "  0%|          | 0/1 [00:00<?, ?it/s]"
     ]
    },
    {
     "name": "stdout",
     "output_type": "stream",
     "text": [
      "cluster_size:  2880\n",
      "tensor([[1.0000, 0.1363, 0.2111,  ..., 0.2680, 0.2333, 0.2583],\n",
      "        [0.1363, 1.0000, 0.1238,  ..., 0.3134, 0.2567, 0.2288],\n",
      "        [0.2111, 0.1238, 1.0000,  ..., 0.1767, 0.2650, 0.2785],\n",
      "        ...,\n",
      "        [0.2680, 0.3134, 0.1767,  ..., 1.0000, 0.6433, 0.7738],\n",
      "        [0.2333, 0.2567, 0.2650,  ..., 0.6433, 1.0000, 0.7048],\n",
      "        [0.2583, 0.2288, 0.2785,  ..., 0.7738, 0.7048, 1.0000]])\n",
      "Step time: 0.005681753158569336(s)\n",
      "===================\n",
      "tensor([0.0000, 0.1363, 0.2111,  ..., 0.8112, 0.8891, 0.9435])\n",
      "===================\n"
     ]
    },
    {
     "name": "stderr",
     "output_type": "stream",
     "text": [
      "100%|██████████| 1/1 [00:00<00:00, 42.52it/s]\n"
     ]
    },
    {
     "name": "stdout",
     "output_type": "stream",
     "text": [
      "DONE cluster:  11\n",
      "STARTING JOB:  12\n",
      "This job will process clusters 12 to  13\n",
      "This task will process 1 clusters: cluster 12 to cluster 13\n",
      "This task will process cluster 12 to cluster 13\n"
     ]
    },
    {
     "name": "stderr",
     "output_type": "stream",
     "text": [
      "  0%|          | 0/1 [00:00<?, ?it/s]"
     ]
    },
    {
     "name": "stdout",
     "output_type": "stream",
     "text": [
      "cluster_size:  4956\n",
      "tensor([[1.0000, 0.5418, 0.1953,  ..., 0.2825, 0.2377, 0.2441],\n",
      "        [0.5418, 1.0000, 0.2106,  ..., 0.2993, 0.2339, 0.2468],\n",
      "        [0.1953, 0.2106, 1.0000,  ..., 0.2615, 0.3213, 0.3266],\n",
      "        ...,\n",
      "        [0.2825, 0.2993, 0.2615,  ..., 1.0000, 0.8004, 0.8191],\n",
      "        [0.2377, 0.2339, 0.3213,  ..., 0.8004, 1.0000, 0.9867],\n",
      "        [0.2441, 0.2468, 0.3266,  ..., 0.8191, 0.9867, 1.0000]])\n",
      "Step time: 0.08823633193969727(s)\n",
      "===================\n",
      "tensor([0.0000, 0.5418, 0.2106,  ..., 0.9123, 0.9852, 0.9867])\n",
      "===================\n"
     ]
    },
    {
     "name": "stderr",
     "output_type": "stream",
     "text": [
      "100%|██████████| 1/1 [00:00<00:00,  5.40it/s]\n"
     ]
    },
    {
     "name": "stdout",
     "output_type": "stream",
     "text": [
      "DONE cluster:  12\n",
      "STARTING JOB:  13\n",
      "This job will process clusters 13 to  14\n",
      "This task will process 1 clusters: cluster 13 to cluster 14\n",
      "This task will process cluster 13 to cluster 14\n"
     ]
    },
    {
     "name": "stderr",
     "output_type": "stream",
     "text": [
      "  0%|          | 0/1 [00:00<?, ?it/s]"
     ]
    },
    {
     "name": "stdout",
     "output_type": "stream",
     "text": [
      "cluster_size:  4043\n"
     ]
    },
    {
     "name": "stderr",
     "output_type": "stream",
     "text": [
      "100%|██████████| 1/1 [00:00<00:00,  5.40it/s]"
     ]
    },
    {
     "name": "stdout",
     "output_type": "stream",
     "text": [
      "tensor([[1.0000, 0.1513, 0.2077,  ..., 0.2949, 0.3298, 0.3044],\n",
      "        [0.1513, 1.0000, 0.2460,  ..., 0.4142, 0.3982, 0.4033],\n",
      "        [0.2077, 0.2460, 1.0000,  ..., 0.3992, 0.4229, 0.4124],\n",
      "        ...,\n",
      "        [0.2949, 0.4142, 0.3992,  ..., 1.0000, 0.9589, 0.9849],\n",
      "        [0.3298, 0.3982, 0.4229,  ..., 0.9589, 1.0000, 0.9647],\n",
      "        [0.3044, 0.4033, 0.4124,  ..., 0.9849, 0.9647, 1.0000]])\n",
      "Step time: 0.011119604110717773(s)\n",
      "===================\n",
      "tensor([0.0000, 0.1513, 0.2460,  ..., 0.9746, 0.9706, 0.9849])\n",
      "===================\n",
      "DONE cluster:  13\n"
     ]
    },
    {
     "name": "stderr",
     "output_type": "stream",
     "text": [
      "100%|██████████| 1/1 [00:00<00:00,  5.36it/s]\n"
     ]
    },
    {
     "name": "stdout",
     "output_type": "stream",
     "text": [
      "STARTING JOB:  14\n",
      "This job will process clusters 14 to  15\n",
      "This task will process 1 clusters: cluster 14 to cluster 15\n",
      "This task will process cluster 14 to cluster 15\n"
     ]
    },
    {
     "name": "stderr",
     "output_type": "stream",
     "text": [
      "  0%|          | 0/1 [00:00<?, ?it/s]"
     ]
    },
    {
     "name": "stdout",
     "output_type": "stream",
     "text": [
      "cluster_size:  5442\n",
      "tensor([[1.0000, 0.1075, 0.1395,  ..., 0.3093, 0.3355, 0.3654],\n",
      "        [0.1075, 1.0000, 0.2874,  ..., 0.3443, 0.3605, 0.3337],\n",
      "        [0.1395, 0.2874, 1.0000,  ..., 0.3302, 0.3391, 0.3168],\n",
      "        ...,\n",
      "        [0.3093, 0.3443, 0.3302,  ..., 1.0000, 0.8417, 0.6808],\n",
      "        [0.3355, 0.3605, 0.3391,  ..., 0.8417, 1.0000, 0.7163],\n",
      "        [0.3654, 0.3337, 0.3168,  ..., 0.6808, 0.7163, 1.0000]])\n"
     ]
    },
    {
     "name": "stderr",
     "output_type": "stream",
     "text": [
      "100%|██████████| 1/1 [00:00<00:00,  5.03it/s]"
     ]
    },
    {
     "name": "stdout",
     "output_type": "stream",
     "text": [
      "Step time: 0.01755237579345703(s)\n",
      "===================\n",
      "tensor([0.0000, 0.1075, 0.2874,  ..., 0.8349, 0.8417, 0.8407])\n",
      "===================\n",
      "DONE cluster:  14\n"
     ]
    },
    {
     "name": "stderr",
     "output_type": "stream",
     "text": [
      "\n"
     ]
    },
    {
     "name": "stdout",
     "output_type": "stream",
     "text": [
      "STARTING JOB:  15\n",
      "This job will process clusters 15 to  16\n",
      "This task will process 1 clusters: cluster 15 to cluster 16\n",
      "This task will process cluster 15 to cluster 16\n"
     ]
    },
    {
     "name": "stderr",
     "output_type": "stream",
     "text": [
      "  0%|          | 0/1 [00:00<?, ?it/s]"
     ]
    },
    {
     "name": "stdout",
     "output_type": "stream",
     "text": [
      "cluster_size:  15280\n",
      "tensor([[1.0000, 0.1515, 0.2704,  ..., 0.3545, 0.3270, 0.2872],\n",
      "        [0.1515, 1.0000, 0.3318,  ..., 0.3838, 0.4138, 0.4068],\n",
      "        [0.2704, 0.3318, 1.0000,  ..., 0.3281, 0.3194, 0.3476],\n",
      "        ...,\n",
      "        [0.3545, 0.3838, 0.3281,  ..., 1.0000, 0.8230, 0.8248],\n",
      "        [0.3270, 0.4138, 0.3194,  ..., 0.8230, 1.0000, 0.7610],\n",
      "        [0.2872, 0.4068, 0.3476,  ..., 0.8248, 0.7610, 1.0000]])\n"
     ]
    },
    {
     "name": "stderr",
     "output_type": "stream",
     "text": [
      "100%|██████████| 1/1 [00:00<00:00,  1.44it/s]\n"
     ]
    },
    {
     "name": "stdout",
     "output_type": "stream",
     "text": [
      "Step time: 0.4748799800872803(s)\n",
      "===================\n",
      "tensor([0.0000, 0.1515, 0.3318,  ..., 0.8651, 0.8448, 0.8677])\n",
      "===================\n",
      "DONE cluster:  15\n",
      "STARTING JOB:  16\n",
      "This job will process clusters 16 to  17\n",
      "This task will process 1 clusters: cluster 16 to cluster 17\n",
      "This task will process cluster 16 to cluster 17\n"
     ]
    },
    {
     "name": "stderr",
     "output_type": "stream",
     "text": [
      "  0%|          | 0/1 [00:00<?, ?it/s]"
     ]
    },
    {
     "name": "stdout",
     "output_type": "stream",
     "text": [
      "cluster_size:  9419\n"
     ]
    },
    {
     "name": "stderr",
     "output_type": "stream",
     "text": [
      "100%|██████████| 1/1 [00:00<00:00,  2.48it/s]\n"
     ]
    },
    {
     "name": "stdout",
     "output_type": "stream",
     "text": [
      "tensor([[1.0000, 0.5541, 0.5378,  ..., 0.1724, 0.1670, 0.2005],\n",
      "        [0.5541, 1.0000, 0.8869,  ..., 0.2148, 0.1841, 0.1952],\n",
      "        [0.5378, 0.8869, 1.0000,  ..., 0.2055, 0.1850, 0.1974],\n",
      "        ...,\n",
      "        [0.1724, 0.2148, 0.2055,  ..., 1.0000, 0.9111, 0.8787],\n",
      "        [0.1670, 0.1841, 0.1850,  ..., 0.9111, 1.0000, 0.8825],\n",
      "        [0.2005, 0.1952, 0.1974,  ..., 0.8787, 0.8825, 1.0000]])\n",
      "Step time: 0.20868492126464844(s)\n",
      "===================\n",
      "tensor([0.0000, 0.5541, 0.8869,  ..., 0.9763, 0.9653, 0.9616])\n",
      "===================\n",
      "DONE cluster:  16\n",
      "STARTING JOB:  17\n",
      "This job will process clusters 17 to  18\n",
      "This task will process 1 clusters: cluster 17 to cluster 18\n",
      "This task will process cluster 17 to cluster 18\n"
     ]
    },
    {
     "name": "stderr",
     "output_type": "stream",
     "text": [
      "  0%|          | 0/1 [00:00<?, ?it/s]"
     ]
    },
    {
     "name": "stdout",
     "output_type": "stream",
     "text": [
      "cluster_size:  4660\n"
     ]
    },
    {
     "name": "stderr",
     "output_type": "stream",
     "text": [
      "100%|██████████| 1/1 [00:00<00:00,  5.09it/s]\n"
     ]
    },
    {
     "name": "stdout",
     "output_type": "stream",
     "text": [
      "tensor([[1.0000, 0.1528, 0.2649,  ..., 0.3158, 0.3705, 0.3462],\n",
      "        [0.1528, 1.0000, 0.2365,  ..., 0.3553, 0.3775, 0.3322],\n",
      "        [0.2649, 0.2365, 1.0000,  ..., 0.3954, 0.4160, 0.4135],\n",
      "        ...,\n",
      "        [0.3158, 0.3553, 0.3954,  ..., 1.0000, 0.9551, 0.9368],\n",
      "        [0.3705, 0.3775, 0.4160,  ..., 0.9551, 1.0000, 0.9467],\n",
      "        [0.3462, 0.3322, 0.4135,  ..., 0.9368, 0.9467, 1.0000]])\n",
      "Step time: 0.08678674697875977(s)\n",
      "===================\n",
      "tensor([0.0000, 0.1528, 0.2649,  ..., 0.9785, 0.9794, 0.9746])\n",
      "===================\n",
      "DONE cluster:  17\n",
      "STARTING JOB:  18\n",
      "This job will process clusters 18 to  19\n",
      "This task will process 1 clusters: cluster 18 to cluster 19\n",
      "This task will process cluster 18 to cluster 19\n"
     ]
    },
    {
     "name": "stderr",
     "output_type": "stream",
     "text": [
      "  0%|          | 0/1 [00:00<?, ?it/s]"
     ]
    },
    {
     "name": "stdout",
     "output_type": "stream",
     "text": [
      "cluster_size:  5139\n",
      "tensor([[1.0000, 0.1630, 0.2117,  ..., 0.0777, 0.2157, 0.0838],\n",
      "        [0.1630, 1.0000, 0.2262,  ..., 0.1272, 0.2102, 0.1784],\n",
      "        [0.2117, 0.2262, 1.0000,  ..., 0.1663, 0.1846, 0.1603],\n",
      "        ...,\n",
      "        [0.0777, 0.1272, 0.1663,  ..., 1.0000, 0.5608, 0.6519],\n",
      "        [0.2157, 0.2102, 0.1846,  ..., 0.5608, 1.0000, 0.6819],\n",
      "        [0.0838, 0.1784, 0.1603,  ..., 0.6519, 0.6819, 1.0000]])\n",
      "Step time: 0.016668081283569336(s)\n",
      "===================\n",
      "tensor([0.0000, 0.1630, 0.2262,  ..., 0.8667, 0.8115, 0.9221])\n",
      "===================\n"
     ]
    },
    {
     "name": "stderr",
     "output_type": "stream",
     "text": [
      "100%|██████████| 1/1 [00:00<00:00,  5.20it/s]\n"
     ]
    },
    {
     "name": "stdout",
     "output_type": "stream",
     "text": [
      "DONE cluster:  18\n",
      "STARTING JOB:  19\n",
      "This job will process clusters 19 to  20\n",
      "This task will process 1 clusters: cluster 19 to cluster 20\n",
      "This task will process cluster 19 to cluster 20\n"
     ]
    },
    {
     "name": "stderr",
     "output_type": "stream",
     "text": [
      "  0%|          | 0/1 [00:00<?, ?it/s]"
     ]
    },
    {
     "name": "stdout",
     "output_type": "stream",
     "text": [
      "cluster_size:  9848\n",
      "tensor([[1.0000, 0.1624, 0.1466,  ..., 0.2328, 0.2124, 0.1987],\n",
      "        [0.1624, 1.0000, 0.1460,  ..., 0.2992, 0.3355, 0.3418],\n",
      "        [0.1466, 0.1460, 1.0000,  ..., 0.3693, 0.3744, 0.3621],\n",
      "        ...,\n",
      "        [0.2328, 0.2992, 0.3693,  ..., 1.0000, 0.9643, 0.8788],\n",
      "        [0.2124, 0.3355, 0.3744,  ..., 0.9643, 1.0000, 0.8863],\n",
      "        [0.1987, 0.3418, 0.3621,  ..., 0.8788, 0.8863, 1.0000]])\n"
     ]
    },
    {
     "name": "stderr",
     "output_type": "stream",
     "text": [
      "100%|██████████| 1/1 [00:00<00:00,  3.16it/s]\n"
     ]
    },
    {
     "name": "stdout",
     "output_type": "stream",
     "text": [
      "Step time: 0.19847488403320312(s)\n",
      "===================\n",
      "tensor([0.0000, 0.1624, 0.1466,  ..., 0.9810, 0.9750, 0.9686])\n",
      "===================\n",
      "DONE cluster:  19\n",
      "STARTING JOB:  20\n",
      "This job will process clusters 20 to  21\n",
      "This task will process 1 clusters: cluster 20 to cluster 21\n",
      "This task will process cluster 20 to cluster 21\n"
     ]
    },
    {
     "name": "stderr",
     "output_type": "stream",
     "text": [
      "  0%|          | 0/1 [00:00<?, ?it/s]"
     ]
    },
    {
     "name": "stdout",
     "output_type": "stream",
     "text": [
      "cluster_size:  8576\n",
      "tensor([[1.0000, 0.1947, 0.2209,  ..., 0.2718, 0.3084, 0.2696],\n",
      "        [0.1947, 1.0000, 0.1929,  ..., 0.3023, 0.3328, 0.3115],\n",
      "        [0.2209, 0.1929, 1.0000,  ..., 0.2704, 0.2898, 0.2637],\n",
      "        ...,\n",
      "        [0.2718, 0.3023, 0.2704,  ..., 1.0000, 0.7431, 0.7810],\n",
      "        [0.3084, 0.3328, 0.2898,  ..., 0.7431, 1.0000, 0.7307],\n",
      "        [0.2696, 0.3115, 0.2637,  ..., 0.7810, 0.7307, 1.0000]])\n"
     ]
    },
    {
     "name": "stderr",
     "output_type": "stream",
     "text": [
      "100%|██████████| 1/1 [00:00<00:00,  3.26it/s]\n"
     ]
    },
    {
     "name": "stdout",
     "output_type": "stream",
     "text": [
      "Step time: 0.1173853874206543(s)\n",
      "===================\n",
      "tensor([0.0000, 0.1947, 0.2209,  ..., 0.9697, 0.9313, 0.9599])\n",
      "===================\n",
      "DONE cluster:  20\n",
      "STARTING JOB:  21\n",
      "This job will process clusters 21 to  22\n",
      "This task will process 1 clusters: cluster 21 to cluster 22\n",
      "This task will process cluster 21 to cluster 22\n"
     ]
    },
    {
     "name": "stderr",
     "output_type": "stream",
     "text": [
      "  0%|          | 0/1 [00:00<?, ?it/s]"
     ]
    },
    {
     "name": "stdout",
     "output_type": "stream",
     "text": [
      "cluster_size:  9456\n",
      "tensor([[1.0000, 0.2947, 0.8861,  ..., 0.2235, 0.2455, 0.2271],\n",
      "        [0.2947, 1.0000, 0.2867,  ..., 0.3187, 0.3160, 0.3133],\n",
      "        [0.8861, 0.2867, 1.0000,  ..., 0.2744, 0.2416, 0.2430],\n",
      "        ...,\n",
      "        [0.2235, 0.3187, 0.2744,  ..., 1.0000, 0.9439, 0.9440],\n",
      "        [0.2455, 0.3160, 0.2416,  ..., 0.9439, 1.0000, 0.9726],\n",
      "        [0.2271, 0.3133, 0.2430,  ..., 0.9440, 0.9726, 1.0000]])\n"
     ]
    },
    {
     "name": "stderr",
     "output_type": "stream",
     "text": [
      "100%|██████████| 1/1 [00:00<00:00,  3.22it/s]\n"
     ]
    },
    {
     "name": "stdout",
     "output_type": "stream",
     "text": [
      "Step time: 0.1935415267944336(s)\n",
      "===================\n",
      "tensor([0.0000, 0.2947, 0.8861,  ..., 0.9785, 0.9892, 0.9726])\n",
      "===================\n",
      "DONE cluster:  21\n",
      "STARTING JOB:  22\n",
      "This job will process clusters 22 to  23\n",
      "This task will process 1 clusters: cluster 22 to cluster 23\n",
      "This task will process cluster 22 to cluster 23\n"
     ]
    },
    {
     "name": "stderr",
     "output_type": "stream",
     "text": [
      "  0%|          | 0/1 [00:00<?, ?it/s]"
     ]
    },
    {
     "name": "stdout",
     "output_type": "stream",
     "text": [
      "cluster_size:  19694\n",
      "tensor([[1.0000, 0.2538, 0.2154,  ..., 0.1975, 0.2095, 0.2754],\n",
      "        [0.2538, 1.0000, 0.2354,  ..., 0.2341, 0.2917, 0.2619],\n",
      "        [0.2154, 0.2354, 1.0000,  ..., 0.2616, 0.3026, 0.2715],\n",
      "        ...,\n",
      "        [0.1975, 0.2341, 0.2616,  ..., 1.0000, 0.8176, 0.8650],\n",
      "        [0.2095, 0.2917, 0.3026,  ..., 0.8176, 1.0000, 0.8200],\n",
      "        [0.2754, 0.2619, 0.2715,  ..., 0.8650, 0.8200, 1.0000]])\n"
     ]
    },
    {
     "name": "stderr",
     "output_type": "stream",
     "text": [
      "100%|██████████| 1/1 [00:00<00:00,  1.09it/s]\n"
     ]
    },
    {
     "name": "stdout",
     "output_type": "stream",
     "text": [
      "Step time: 0.7675368785858154(s)\n",
      "===================\n",
      "tensor([0.0000, 0.2538, 0.2354,  ..., 0.9835, 0.9840, 0.9848])\n",
      "===================\n",
      "DONE cluster:  22\n",
      "STARTING JOB:  23\n",
      "This job will process clusters 23 to  24\n",
      "This task will process 1 clusters: cluster 23 to cluster 24\n",
      "This task will process cluster 23 to cluster 24\n"
     ]
    },
    {
     "name": "stderr",
     "output_type": "stream",
     "text": [
      "100%|██████████| 1/1 [00:00<00:00, 26.81it/s]\n"
     ]
    },
    {
     "name": "stdout",
     "output_type": "stream",
     "text": [
      "cluster_size:  4527\n",
      "tensor([[1.0000, 0.1973, 0.1737,  ..., 0.2178, 0.2144, 0.2268],\n",
      "        [0.1973, 1.0000, 0.2039,  ..., 0.2456, 0.2532, 0.2576],\n",
      "        [0.1737, 0.2039, 1.0000,  ..., 0.2800, 0.2729, 0.2809],\n",
      "        ...,\n",
      "        [0.2178, 0.2456, 0.2800,  ..., 1.0000, 0.9660, 0.9722],\n",
      "        [0.2144, 0.2532, 0.2729,  ..., 0.9660, 1.0000, 0.9860],\n",
      "        [0.2268, 0.2576, 0.2809,  ..., 0.9722, 0.9860, 1.0000]])\n",
      "Step time: 0.012863874435424805(s)\n",
      "===================\n",
      "tensor([0.0000, 0.1973, 0.2039,  ..., 0.9710, 0.9683, 0.9860])\n",
      "===================\n",
      "DONE cluster:  23\n",
      "STARTING JOB:  24\n",
      "This job will process clusters 24 to  25\n",
      "This task will process 1 clusters: cluster 24 to cluster 25\n",
      "This task will process cluster 24 to cluster 25\n"
     ]
    },
    {
     "name": "stderr",
     "output_type": "stream",
     "text": [
      "  0%|          | 0/1 [00:00<?, ?it/s]"
     ]
    },
    {
     "name": "stdout",
     "output_type": "stream",
     "text": [
      "cluster_size:  5283\n",
      "tensor([[1.0000, 0.4988, 0.2248,  ..., 0.2410, 0.1905, 0.2207],\n",
      "        [0.4988, 1.0000, 0.2631,  ..., 0.1683, 0.1707, 0.1596],\n",
      "        [0.2248, 0.2631, 1.0000,  ..., 0.1321, 0.1743, 0.1433],\n",
      "        ...,\n",
      "        [0.2410, 0.1683, 0.1321,  ..., 1.0000, 0.6469, 0.9483],\n",
      "        [0.1905, 0.1707, 0.1743,  ..., 0.6469, 1.0000, 0.6521],\n",
      "        [0.2207, 0.1596, 0.1433,  ..., 0.9483, 0.6521, 1.0000]])\n"
     ]
    },
    {
     "name": "stderr",
     "output_type": "stream",
     "text": [
      "100%|██████████| 1/1 [00:00<00:00,  5.06it/s]\n"
     ]
    },
    {
     "name": "stdout",
     "output_type": "stream",
     "text": [
      "Step time: 0.09158921241760254(s)\n",
      "===================\n",
      "tensor([0.0000, 0.4988, 0.2631,  ..., 0.9705, 0.8768, 0.9752])\n",
      "===================\n",
      "DONE cluster:  24\n",
      "STARTING JOB:  25\n",
      "This job will process clusters 25 to  26\n",
      "This task will process 1 clusters: cluster 25 to cluster 26\n",
      "This task will process cluster 25 to cluster 26\n"
     ]
    },
    {
     "name": "stderr",
     "output_type": "stream",
     "text": [
      "  0%|          | 0/1 [00:00<?, ?it/s]"
     ]
    },
    {
     "name": "stdout",
     "output_type": "stream",
     "text": [
      "cluster_size:  6157\n",
      "tensor([[1.0000, 0.1363, 0.2453,  ..., 0.3387, 0.3139, 0.3522],\n",
      "        [0.1363, 1.0000, 0.1500,  ..., 0.3321, 0.3456, 0.3484],\n",
      "        [0.2453, 0.1500, 1.0000,  ..., 0.3336, 0.3493, 0.3638],\n",
      "        ...,\n",
      "        [0.3387, 0.3321, 0.3336,  ..., 1.0000, 0.8383, 0.8478],\n",
      "        [0.3139, 0.3456, 0.3493,  ..., 0.8383, 1.0000, 0.8367],\n",
      "        [0.3522, 0.3484, 0.3638,  ..., 0.8478, 0.8367, 1.0000]])\n"
     ]
    },
    {
     "name": "stderr",
     "output_type": "stream",
     "text": [
      "100%|██████████| 1/1 [00:00<00:00,  3.36it/s]\n"
     ]
    },
    {
     "name": "stdout",
     "output_type": "stream",
     "text": [
      "Step time: 0.11513233184814453(s)\n",
      "===================\n",
      "tensor([0.0000, 0.1363, 0.2453,  ..., 0.9944, 0.9331, 0.9738])\n",
      "===================\n",
      "DONE cluster:  25\n",
      "STARTING JOB:  26\n",
      "This job will process clusters 26 to  27\n",
      "This task will process 1 clusters: cluster 26 to cluster 27\n",
      "This task will process cluster 26 to cluster 27\n"
     ]
    },
    {
     "name": "stderr",
     "output_type": "stream",
     "text": [
      "100%|██████████| 1/1 [00:00<00:00, 10.25it/s]\n"
     ]
    },
    {
     "name": "stdout",
     "output_type": "stream",
     "text": [
      "cluster_size:  3157\n",
      "tensor([[1.0000, 0.1320, 0.1214,  ..., 0.1501, 0.2083, 0.1869],\n",
      "        [0.1320, 1.0000, 0.2022,  ..., 0.2113, 0.2087, 0.2681],\n",
      "        [0.1214, 0.2022, 1.0000,  ..., 0.2364, 0.3458, 0.2200],\n",
      "        ...,\n",
      "        [0.1501, 0.2113, 0.2364,  ..., 1.0000, 0.7612, 0.7454],\n",
      "        [0.2083, 0.2087, 0.3458,  ..., 0.7612, 1.0000, 0.7098],\n",
      "        [0.1869, 0.2681, 0.2200,  ..., 0.7454, 0.7098, 1.0000]])\n",
      "Step time: 0.007955312728881836(s)\n",
      "===================\n",
      "tensor([0.0000, 0.1320, 0.2022,  ..., 0.8566, 0.8384, 0.7999])\n",
      "===================\n",
      "DONE cluster:  26\n",
      "STARTING JOB:  27\n",
      "This job will process clusters 27 to  28\n",
      "This task will process 1 clusters: cluster 27 to cluster 28\n",
      "This task will process cluster 27 to cluster 28\n"
     ]
    },
    {
     "name": "stderr",
     "output_type": "stream",
     "text": [
      "  0%|          | 0/1 [00:00<?, ?it/s]"
     ]
    },
    {
     "name": "stdout",
     "output_type": "stream",
     "text": [
      "cluster_size:  8556\n",
      "tensor([[1.0000, 0.0408, 0.3131,  ..., 0.2297, 0.2829, 0.2866],\n",
      "        [0.0408, 1.0000, 0.0724,  ..., 0.2898, 0.2797, 0.2873],\n",
      "        [0.3131, 0.0724, 1.0000,  ..., 0.2428, 0.3173, 0.3085],\n",
      "        ...,\n",
      "        [0.2297, 0.2898, 0.2428,  ..., 1.0000, 0.8209, 0.8144],\n",
      "        [0.2829, 0.2797, 0.3173,  ..., 0.8209, 1.0000, 0.8585],\n",
      "        [0.2866, 0.2873, 0.3085,  ..., 0.8144, 0.8585, 1.0000]])\n",
      "Step time: 0.11458706855773926(s)\n",
      "===================\n",
      "tensor([0.0000, 0.0408, 0.3131,  ..., 0.8794, 0.9791, 0.8947])\n",
      "===================\n"
     ]
    },
    {
     "name": "stderr",
     "output_type": "stream",
     "text": [
      "100%|██████████| 1/1 [00:00<00:00,  3.30it/s]\n"
     ]
    },
    {
     "name": "stdout",
     "output_type": "stream",
     "text": [
      "DONE cluster:  27\n",
      "STARTING JOB:  28\n",
      "This job will process clusters 28 to  29\n",
      "This task will process 1 clusters: cluster 28 to cluster 29\n",
      "This task will process cluster 28 to cluster 29\n"
     ]
    },
    {
     "name": "stderr",
     "output_type": "stream",
     "text": [
      "  0%|          | 0/1 [00:00<?, ?it/s]"
     ]
    },
    {
     "name": "stdout",
     "output_type": "stream",
     "text": [
      "cluster_size:  3330\n",
      "tensor([[1.0000, 0.1375, 0.1954,  ..., 0.2227, 0.1710, 0.2373],\n",
      "        [0.1375, 1.0000, 0.1831,  ..., 0.2642, 0.2608, 0.2783],\n",
      "        [0.1954, 0.1831, 1.0000,  ..., 0.2890, 0.2665, 0.2929],\n",
      "        ...,\n",
      "        [0.2227, 0.2642, 0.2890,  ..., 1.0000, 0.5125, 0.5879],\n",
      "        [0.1710, 0.2608, 0.2665,  ..., 0.5125, 1.0000, 0.6701],\n",
      "        [0.2373, 0.2783, 0.2929,  ..., 0.5879, 0.6701, 1.0000]])\n",
      "Step time: 0.008936166763305664(s)\n",
      "===================\n"
     ]
    },
    {
     "name": "stderr",
     "output_type": "stream",
     "text": [
      "100%|██████████| 1/1 [00:00<00:00,  9.55it/s]\n"
     ]
    },
    {
     "name": "stdout",
     "output_type": "stream",
     "text": [
      "tensor([0.0000, 0.1375, 0.1954,  ..., 0.9411, 0.8467, 0.9397])\n",
      "===================\n",
      "DONE cluster:  28\n",
      "STARTING JOB:  29\n",
      "This job will process clusters 29 to  30\n",
      "This task will process 1 clusters: cluster 29 to cluster 30\n",
      "This task will process cluster 29 to cluster 30\n"
     ]
    },
    {
     "name": "stderr",
     "output_type": "stream",
     "text": [
      "  0%|          | 0/1 [00:00<?, ?it/s]"
     ]
    },
    {
     "name": "stdout",
     "output_type": "stream",
     "text": [
      "cluster_size:  5407\n",
      "tensor([[1.0000, 0.3134, 0.2280,  ..., 0.4369, 0.3456, 0.3431],\n",
      "        [0.3134, 1.0000, 0.1699,  ..., 0.4414, 0.2685, 0.2718],\n",
      "        [0.2280, 0.1699, 1.0000,  ..., 0.3138, 0.3044, 0.2616],\n",
      "        ...,\n",
      "        [0.4369, 0.4414, 0.3138,  ..., 1.0000, 0.5846, 0.5704],\n",
      "        [0.3456, 0.2685, 0.3044,  ..., 0.5846, 1.0000, 0.9484],\n",
      "        [0.3431, 0.2718, 0.2616,  ..., 0.5704, 0.9484, 1.0000]])\n"
     ]
    },
    {
     "name": "stderr",
     "output_type": "stream",
     "text": [
      "100%|██████████| 1/1 [00:00<00:00,  5.17it/s]"
     ]
    },
    {
     "name": "stdout",
     "output_type": "stream",
     "text": [
      "Step time: 0.09357333183288574(s)\n",
      "===================\n",
      "tensor([0.0000, 0.3134, 0.2280,  ..., 0.9953, 0.9791, 0.9721])\n",
      "===================\n",
      "DONE cluster:  29\n"
     ]
    },
    {
     "name": "stderr",
     "output_type": "stream",
     "text": [
      "100%|██████████| 1/1 [00:00<00:00,  5.14it/s]\n"
     ]
    },
    {
     "name": "stdout",
     "output_type": "stream",
     "text": [
      "STARTING JOB:  30\n",
      "This job will process clusters 30 to  31\n",
      "This task will process 1 clusters: cluster 30 to cluster 31\n",
      "This task will process cluster 30 to cluster 31\n"
     ]
    },
    {
     "name": "stderr",
     "output_type": "stream",
     "text": [
      "  0%|          | 0/1 [00:00<?, ?it/s]"
     ]
    },
    {
     "name": "stdout",
     "output_type": "stream",
     "text": [
      "cluster_size:  9093\n",
      "tensor([[1.0000, 0.6978, 0.1137,  ..., 0.2642, 0.2711, 0.2739],\n",
      "        [0.6978, 1.0000, 0.1116,  ..., 0.2874, 0.3067, 0.2683],\n",
      "        [0.1137, 0.1116, 1.0000,  ..., 0.3369, 0.2937, 0.2780],\n",
      "        ...,\n",
      "        [0.2642, 0.2874, 0.3369,  ..., 1.0000, 0.7878, 0.7593],\n",
      "        [0.2711, 0.3067, 0.2937,  ..., 0.7878, 1.0000, 0.7008],\n",
      "        [0.2739, 0.2683, 0.2780,  ..., 0.7593, 0.7008, 1.0000]])\n"
     ]
    },
    {
     "name": "stderr",
     "output_type": "stream",
     "text": [
      "100%|██████████| 1/1 [00:00<00:00,  2.58it/s]\n"
     ]
    },
    {
     "name": "stdout",
     "output_type": "stream",
     "text": [
      "Step time: 0.12199115753173828(s)\n",
      "===================\n",
      "tensor([0.0000, 0.6978, 0.1137,  ..., 0.9748, 0.9589, 0.8582])\n",
      "===================\n",
      "DONE cluster:  30\n",
      "STARTING JOB:  31\n",
      "This job will process clusters 31 to  32\n",
      "This task will process 1 clusters: cluster 31 to cluster 32\n",
      "This task will process cluster 31 to cluster 32\n"
     ]
    },
    {
     "name": "stderr",
     "output_type": "stream",
     "text": [
      "  0%|          | 0/1 [00:00<?, ?it/s]"
     ]
    },
    {
     "name": "stdout",
     "output_type": "stream",
     "text": [
      "cluster_size:  3810\n"
     ]
    },
    {
     "name": "stderr",
     "output_type": "stream",
     "text": [
      "100%|██████████| 1/1 [00:00<00:00,  9.24it/s]\n"
     ]
    },
    {
     "name": "stdout",
     "output_type": "stream",
     "text": [
      "tensor([[1.0000, 0.0655, 0.3261,  ..., 0.1365, 0.1933, 0.1701],\n",
      "        [0.0655, 1.0000, 0.1443,  ..., 0.3018, 0.3174, 0.2911],\n",
      "        [0.3261, 0.1443, 1.0000,  ..., 0.1308, 0.1921, 0.1913],\n",
      "        ...,\n",
      "        [0.1365, 0.3018, 0.1308,  ..., 1.0000, 0.8719, 0.7977],\n",
      "        [0.1933, 0.3174, 0.1921,  ..., 0.8719, 1.0000, 0.7544],\n",
      "        [0.1701, 0.2911, 0.1913,  ..., 0.7977, 0.7544, 1.0000]])\n",
      "Step time: 0.01087331771850586(s)\n",
      "===================\n",
      "tensor([0.0000, 0.0655, 0.3261,  ..., 0.8860, 0.8842, 0.8474])\n",
      "===================\n",
      "DONE cluster:  31\n",
      "STARTING JOB:  32\n",
      "This job will process clusters 32 to  33\n",
      "This task will process 1 clusters: cluster 32 to cluster 33\n",
      "This task will process cluster 32 to cluster 33\n"
     ]
    },
    {
     "name": "stderr",
     "output_type": "stream",
     "text": [
      "  0%|          | 0/1 [00:00<?, ?it/s]"
     ]
    },
    {
     "name": "stdout",
     "output_type": "stream",
     "text": [
      "cluster_size:  6590\n"
     ]
    },
    {
     "name": "stderr",
     "output_type": "stream",
     "text": [
      "100%|██████████| 1/1 [00:00<00:00,  3.35it/s]"
     ]
    },
    {
     "name": "stdout",
     "output_type": "stream",
     "text": [
      "tensor([[1.0000, 0.2659, 0.2213,  ..., 0.3300, 0.3496, 0.3739],\n",
      "        [0.2659, 1.0000, 0.2305,  ..., 0.2701, 0.3316, 0.3188],\n",
      "        [0.2213, 0.2305, 1.0000,  ..., 0.3162, 0.2800, 0.3614],\n",
      "        ...,\n",
      "        [0.3300, 0.2701, 0.3162,  ..., 1.0000, 0.7693, 0.8287],\n",
      "        [0.3496, 0.3316, 0.2800,  ..., 0.7693, 1.0000, 0.7865],\n",
      "        [0.3739, 0.3188, 0.3614,  ..., 0.8287, 0.7865, 1.0000]])\n",
      "Step time: 0.1115269660949707(s)\n",
      "===================\n",
      "tensor([0.0000, 0.2659, 0.2305,  ..., 0.8928, 0.8529, 0.9396])\n",
      "===================\n",
      "DONE cluster:  32\n"
     ]
    },
    {
     "name": "stderr",
     "output_type": "stream",
     "text": [
      "\n"
     ]
    },
    {
     "name": "stdout",
     "output_type": "stream",
     "text": [
      "STARTING JOB:  33\n",
      "This job will process clusters 33 to  34\n",
      "This task will process 1 clusters: cluster 33 to cluster 34\n",
      "This task will process cluster 33 to cluster 34\n"
     ]
    },
    {
     "name": "stderr",
     "output_type": "stream",
     "text": [
      "  0%|          | 0/1 [00:00<?, ?it/s]"
     ]
    },
    {
     "name": "stdout",
     "output_type": "stream",
     "text": [
      "cluster_size:  4654\n",
      "tensor([[1.0000, 0.2161, 0.2063,  ..., 0.2275, 0.2858, 0.2967],\n",
      "        [0.2161, 1.0000, 0.8524,  ..., 0.2510, 0.2257, 0.2235],\n",
      "        [0.2063, 0.8524, 1.0000,  ..., 0.2384, 0.2343, 0.2401],\n",
      "        ...,\n",
      "        [0.2275, 0.2510, 0.2384,  ..., 1.0000, 0.6395, 0.6547],\n",
      "        [0.2858, 0.2257, 0.2343,  ..., 0.6395, 1.0000, 0.9719],\n",
      "        [0.2967, 0.2235, 0.2401,  ..., 0.6547, 0.9719, 1.0000]])\n"
     ]
    },
    {
     "name": "stderr",
     "output_type": "stream",
     "text": [
      "100%|██████████| 1/1 [00:00<00:00,  4.83it/s]\n"
     ]
    },
    {
     "name": "stdout",
     "output_type": "stream",
     "text": [
      "Step time: 0.1801621913909912(s)\n",
      "===================\n",
      "tensor([0.0000, 0.2161, 0.8524,  ..., 0.9730, 0.9547, 0.9719])\n",
      "===================\n",
      "DONE cluster:  33\n",
      "STARTING JOB:  34\n",
      "This job will process clusters 34 to  35\n",
      "This task will process 1 clusters: cluster 34 to cluster 35\n",
      "This task will process cluster 34 to cluster 35\n"
     ]
    },
    {
     "name": "stderr",
     "output_type": "stream",
     "text": [
      "  0%|          | 0/1 [00:00<?, ?it/s]"
     ]
    },
    {
     "name": "stdout",
     "output_type": "stream",
     "text": [
      "cluster_size:  5881\n",
      "tensor([[1.0000, 0.1517, 0.0850,  ..., 0.2144, 0.1742, 0.2185],\n",
      "        [0.1517, 1.0000, 0.0916,  ..., 0.2679, 0.2192, 0.2938],\n",
      "        [0.0850, 0.0916, 1.0000,  ..., 0.3002, 0.3133, 0.3099],\n",
      "        ...,\n",
      "        [0.2144, 0.2679, 0.3002,  ..., 1.0000, 0.8152, 0.9360],\n",
      "        [0.1742, 0.2192, 0.3133,  ..., 0.8152, 1.0000, 0.8369],\n",
      "        [0.2185, 0.2938, 0.3099,  ..., 0.9360, 0.8369, 1.0000]])\n",
      "Step time: 0.09542989730834961(s)\n",
      "===================\n",
      "tensor([0.0000, 0.1517, 0.0916,  ..., 0.9841, 0.9295, 0.9360])\n",
      "===================\n"
     ]
    },
    {
     "name": "stderr",
     "output_type": "stream",
     "text": [
      "100%|██████████| 1/1 [00:00<00:00,  5.04it/s]\n"
     ]
    },
    {
     "name": "stdout",
     "output_type": "stream",
     "text": [
      "DONE cluster:  34\n",
      "STARTING JOB:  35\n",
      "This job will process clusters 35 to  36\n",
      "This task will process 1 clusters: cluster 35 to cluster 36\n",
      "This task will process cluster 35 to cluster 36\n"
     ]
    },
    {
     "name": "stderr",
     "output_type": "stream",
     "text": [
      "  0%|          | 0/1 [00:00<?, ?it/s]"
     ]
    },
    {
     "name": "stdout",
     "output_type": "stream",
     "text": [
      "cluster_size:  2205\n",
      "tensor([[1.0000, 0.0455, 0.0613,  ..., 0.1465, 0.1445, 0.2155],\n",
      "        [0.0455, 1.0000, 0.2605,  ..., 0.1546, 0.2096, 0.1193],\n",
      "        [0.0613, 0.2605, 1.0000,  ..., 0.1650, 0.0825, 0.2687],\n",
      "        ...,\n",
      "        [0.1465, 0.1546, 0.1650,  ..., 1.0000, 0.7094, 0.5966],\n",
      "        [0.1445, 0.2096, 0.0825,  ..., 0.7094, 1.0000, 0.5022],\n",
      "        [0.2155, 0.1193, 0.2687,  ..., 0.5966, 0.5022, 1.0000]])\n"
     ]
    },
    {
     "name": "stderr",
     "output_type": "stream",
     "text": [
      "100%|██████████| 1/1 [00:00<00:00, 10.69it/s]\n"
     ]
    },
    {
     "name": "stdout",
     "output_type": "stream",
     "text": [
      "Step time: 0.07938480377197266(s)\n",
      "===================\n",
      "tensor([0.0000, 0.0455, 0.2605,  ..., 0.9930, 0.9863, 0.9551])\n",
      "===================\n",
      "DONE cluster:  35\n",
      "STARTING JOB:  36\n",
      "This job will process clusters 36 to  37\n",
      "This task will process 1 clusters: cluster 36 to cluster 37\n",
      "This task will process cluster 36 to cluster 37\n"
     ]
    },
    {
     "name": "stderr",
     "output_type": "stream",
     "text": [
      "  0%|          | 0/1 [00:00<?, ?it/s]"
     ]
    },
    {
     "name": "stdout",
     "output_type": "stream",
     "text": [
      "cluster_size:  5246\n",
      "tensor([[1.0000, 0.1197, 0.4185,  ..., 0.3193, 0.3579, 0.2985],\n",
      "        [0.1197, 1.0000, 0.1278,  ..., 0.3258, 0.3283, 0.3293],\n",
      "        [0.4185, 0.1278, 1.0000,  ..., 0.2826, 0.2932, 0.3042],\n",
      "        ...,\n",
      "        [0.3193, 0.3258, 0.2826,  ..., 1.0000, 0.9236, 0.9032],\n",
      "        [0.3579, 0.3283, 0.2932,  ..., 0.9236, 1.0000, 0.9013],\n",
      "        [0.2985, 0.3293, 0.3042,  ..., 0.9032, 0.9013, 1.0000]])\n",
      "Step time: 0.017467737197875977(s)\n",
      "===================\n",
      "tensor([0.0000, 0.1197, 0.4185,  ..., 0.9025, 0.9236, 0.9479])\n",
      "===================\n"
     ]
    },
    {
     "name": "stderr",
     "output_type": "stream",
     "text": [
      "100%|██████████| 1/1 [00:00<00:00,  5.19it/s]\n"
     ]
    },
    {
     "name": "stdout",
     "output_type": "stream",
     "text": [
      "DONE cluster:  36\n",
      "STARTING JOB:  37\n",
      "This job will process clusters 37 to  38\n",
      "This task will process 1 clusters: cluster 37 to cluster 38\n",
      "This task will process cluster 37 to cluster 38\n"
     ]
    },
    {
     "name": "stderr",
     "output_type": "stream",
     "text": [
      "  0%|          | 0/1 [00:00<?, ?it/s]"
     ]
    },
    {
     "name": "stdout",
     "output_type": "stream",
     "text": [
      "cluster_size:  9388\n",
      "tensor([[1.0000, 0.2770, 0.3104,  ..., 0.3375, 0.3473, 0.3632],\n",
      "        [0.2770, 1.0000, 0.2529,  ..., 0.4296, 0.3860, 0.4073],\n",
      "        [0.3104, 0.2529, 1.0000,  ..., 0.4267, 0.3691, 0.4115],\n",
      "        ...,\n",
      "        [0.3375, 0.4296, 0.4267,  ..., 1.0000, 0.7977, 0.8149],\n",
      "        [0.3473, 0.3860, 0.3691,  ..., 0.7977, 1.0000, 0.7182],\n",
      "        [0.3632, 0.4073, 0.4115,  ..., 0.8149, 0.7182, 1.0000]])\n"
     ]
    },
    {
     "name": "stderr",
     "output_type": "stream",
     "text": [
      "100%|██████████| 1/1 [00:00<00:00,  3.22it/s]\n"
     ]
    },
    {
     "name": "stdout",
     "output_type": "stream",
     "text": [
      "Step time: 0.19456100463867188(s)\n",
      "===================\n",
      "tensor([0.0000, 0.2770, 0.3104,  ..., 0.9051, 0.8861, 0.8873])\n",
      "===================\n",
      "DONE cluster:  37\n",
      "STARTING JOB:  38\n",
      "This job will process clusters 38 to  39\n",
      "This task will process 1 clusters: cluster 38 to cluster 39\n",
      "This task will process cluster 38 to cluster 39\n"
     ]
    },
    {
     "name": "stderr",
     "output_type": "stream",
     "text": [
      "  0%|          | 0/1 [00:00<?, ?it/s]"
     ]
    },
    {
     "name": "stdout",
     "output_type": "stream",
     "text": [
      "cluster_size:  3179\n"
     ]
    },
    {
     "name": "stderr",
     "output_type": "stream",
     "text": [
      "100%|██████████| 1/1 [00:00<00:00,  5.47it/s]\n"
     ]
    },
    {
     "name": "stdout",
     "output_type": "stream",
     "text": [
      "tensor([[1.0000, 0.2312, 0.2236,  ..., 0.2429, 0.2365, 0.2479],\n",
      "        [0.2312, 1.0000, 0.9970,  ..., 0.1723, 0.1743, 0.1767],\n",
      "        [0.2236, 0.9970, 1.0000,  ..., 0.1758, 0.1787, 0.1823],\n",
      "        ...,\n",
      "        [0.2429, 0.1723, 0.1758,  ..., 1.0000, 0.9927, 0.9916],\n",
      "        [0.2365, 0.1743, 0.1787,  ..., 0.9927, 1.0000, 0.9902],\n",
      "        [0.2479, 0.1767, 0.1823,  ..., 0.9916, 0.9902, 1.0000]])\n",
      "Step time: 0.011931419372558594(s)\n",
      "===================\n",
      "tensor([0.0000, 0.2312, 0.9970,  ..., 0.9915, 0.9993, 0.9916])\n",
      "===================\n",
      "DONE cluster:  38\n",
      "STARTING JOB:  39\n",
      "This job will process clusters 39 to  40\n",
      "This task will process 1 clusters: cluster 39 to cluster 40\n",
      "This task will process cluster 39 to cluster 40\n"
     ]
    },
    {
     "name": "stderr",
     "output_type": "stream",
     "text": [
      "  0%|          | 0/1 [00:00<?, ?it/s]"
     ]
    },
    {
     "name": "stdout",
     "output_type": "stream",
     "text": [
      "cluster_size:  8117\n"
     ]
    },
    {
     "name": "stderr",
     "output_type": "stream",
     "text": [
      "100%|██████████| 1/1 [00:00<00:00,  2.48it/s]\n"
     ]
    },
    {
     "name": "stdout",
     "output_type": "stream",
     "text": [
      "tensor([[1.0000, 0.9987, 0.9994,  ..., 0.2954, 0.2992, 0.2616],\n",
      "        [0.9987, 1.0000, 0.9990,  ..., 0.3015, 0.3004, 0.2623],\n",
      "        [0.9994, 0.9990, 1.0000,  ..., 0.3027, 0.3026, 0.2622],\n",
      "        ...,\n",
      "        [0.2954, 0.3015, 0.3027,  ..., 1.0000, 0.6900, 0.7459],\n",
      "        [0.2992, 0.3004, 0.3026,  ..., 0.6900, 1.0000, 0.6674],\n",
      "        [0.2616, 0.2623, 0.2622,  ..., 0.7459, 0.6674, 1.0000]])\n",
      "Step time: 0.2903156280517578(s)\n",
      "===================\n",
      "tensor([0.0000, 0.9987, 0.9994,  ..., 0.9372, 0.7224, 0.9977])\n",
      "===================\n",
      "DONE cluster:  39\n",
      "STARTING JOB:  40\n",
      "This job will process clusters 40 to  41\n",
      "This task will process 1 clusters: cluster 40 to cluster 41\n",
      "This task will process cluster 40 to cluster 41\n"
     ]
    },
    {
     "name": "stderr",
     "output_type": "stream",
     "text": [
      "  0%|          | 0/1 [00:00<?, ?it/s]"
     ]
    },
    {
     "name": "stdout",
     "output_type": "stream",
     "text": [
      "cluster_size:  3351\n"
     ]
    },
    {
     "name": "stderr",
     "output_type": "stream",
     "text": [
      "100%|██████████| 1/1 [00:00<00:00,  9.22it/s]\n"
     ]
    },
    {
     "name": "stdout",
     "output_type": "stream",
     "text": [
      "tensor([[1.0000, 0.2758, 0.2115,  ..., 0.3287, 0.3085, 0.3303],\n",
      "        [0.2758, 1.0000, 0.2843,  ..., 0.3837, 0.3075, 0.3626],\n",
      "        [0.2115, 0.2843, 1.0000,  ..., 0.3236, 0.3416, 0.3242],\n",
      "        ...,\n",
      "        [0.3287, 0.3837, 0.3236,  ..., 1.0000, 0.9265, 0.9325],\n",
      "        [0.3085, 0.3075, 0.3416,  ..., 0.9265, 1.0000, 0.9037],\n",
      "        [0.3303, 0.3626, 0.3242,  ..., 0.9325, 0.9037, 1.0000]])\n",
      "Step time: 0.013413190841674805(s)\n",
      "===================\n",
      "tensor([0.0000, 0.2758, 0.2843,  ..., 0.9646, 0.9575, 0.9595])\n",
      "===================\n",
      "DONE cluster:  40\n",
      "STARTING JOB:  41\n",
      "This job will process clusters 41 to  42\n",
      "This task will process 1 clusters: cluster 41 to cluster 42\n",
      "This task will process cluster 41 to cluster 42\n"
     ]
    },
    {
     "name": "stderr",
     "output_type": "stream",
     "text": [
      "  0%|          | 0/1 [00:00<?, ?it/s]"
     ]
    },
    {
     "name": "stdout",
     "output_type": "stream",
     "text": [
      "cluster_size:  4346\n",
      "tensor([[1.0000, 0.2014, 0.3163,  ..., 0.2104, 0.2329, 0.2327],\n",
      "        [0.2014, 1.0000, 0.2530,  ..., 0.2501, 0.2503, 0.2415],\n",
      "        [0.3163, 0.2530, 1.0000,  ..., 0.2915, 0.2796, 0.2889],\n",
      "        ...,\n",
      "        [0.2104, 0.2501, 0.2915,  ..., 1.0000, 0.8543, 0.7331],\n",
      "        [0.2329, 0.2503, 0.2796,  ..., 0.8543, 1.0000, 0.7913],\n",
      "        [0.2327, 0.2415, 0.2889,  ..., 0.7331, 0.7913, 1.0000]])\n"
     ]
    },
    {
     "name": "stderr",
     "output_type": "stream",
     "text": [
      "100%|██████████| 1/1 [00:00<00:00,  5.46it/s]\n"
     ]
    },
    {
     "name": "stdout",
     "output_type": "stream",
     "text": [
      "Step time: 0.08625507354736328(s)\n",
      "===================\n",
      "tensor([0.0000, 0.2014, 0.3163,  ..., 0.9080, 0.9037, 0.8612])\n",
      "===================\n",
      "DONE cluster:  41\n",
      "STARTING JOB:  42\n",
      "This job will process clusters 42 to  43\n",
      "This task will process 1 clusters: cluster 42 to cluster 43\n",
      "This task will process cluster 42 to cluster 43\n"
     ]
    },
    {
     "name": "stderr",
     "output_type": "stream",
     "text": [
      "  0%|          | 0/1 [00:00<?, ?it/s]"
     ]
    },
    {
     "name": "stdout",
     "output_type": "stream",
     "text": [
      "cluster_size:  7166\n",
      "tensor([[1.0000, 0.1913, 0.1651,  ..., 0.3572, 0.3037, 0.3231],\n",
      "        [0.1913, 1.0000, 0.2064,  ..., 0.3606, 0.3023, 0.3054],\n",
      "        [0.1651, 0.2064, 1.0000,  ..., 0.3376, 0.2989, 0.3194],\n",
      "        ...,\n",
      "        [0.3572, 0.3606, 0.3376,  ..., 1.0000, 0.8037, 0.8014],\n",
      "        [0.3037, 0.3023, 0.2989,  ..., 0.8037, 1.0000, 0.8349],\n",
      "        [0.3231, 0.3054, 0.3194,  ..., 0.8014, 0.8349, 1.0000]])\n",
      "Step time: 0.10425949096679688(s)\n",
      "===================\n",
      "tensor([0.0000, 0.1913, 0.2064,  ..., 0.8813, 0.8785, 0.8814])\n",
      "===================\n"
     ]
    },
    {
     "name": "stderr",
     "output_type": "stream",
     "text": [
      "100%|██████████| 1/1 [00:00<00:00,  3.45it/s]\n"
     ]
    },
    {
     "name": "stdout",
     "output_type": "stream",
     "text": [
      "DONE cluster:  42\n",
      "STARTING JOB:  43\n",
      "This job will process clusters 43 to  44\n",
      "This task will process 1 clusters: cluster 43 to cluster 44\n",
      "This task will process cluster 43 to cluster 44\n"
     ]
    },
    {
     "name": "stderr",
     "output_type": "stream",
     "text": [
      "100%|██████████| 1/1 [00:00<00:00, 48.66it/s]\n"
     ]
    },
    {
     "name": "stdout",
     "output_type": "stream",
     "text": [
      "cluster_size:  2509\n",
      "tensor([[1.0000, 0.0683, 0.1029,  ..., 0.2157, 0.2090, 0.1745],\n",
      "        [0.0683, 1.0000, 0.2324,  ..., 0.2442, 0.2692, 0.2367],\n",
      "        [0.1029, 0.2324, 1.0000,  ..., 0.2498, 0.1972, 0.3260],\n",
      "        ...,\n",
      "        [0.2157, 0.2442, 0.2498,  ..., 1.0000, 0.5842, 0.6369],\n",
      "        [0.2090, 0.2692, 0.1972,  ..., 0.5842, 1.0000, 0.5854],\n",
      "        [0.1745, 0.2367, 0.3260,  ..., 0.6369, 0.5854, 1.0000]])\n",
      "Step time: 0.004787921905517578(s)\n",
      "===================\n",
      "tensor([0.0000, 0.0683, 0.2324,  ..., 0.7475, 0.7278, 0.8155])\n",
      "===================\n",
      "DONE cluster:  43\n",
      "STARTING JOB:  44\n",
      "This job will process clusters 44 to  45\n",
      "This task will process 1 clusters: cluster 44 to cluster 45\n",
      "This task will process cluster 44 to cluster 45\n"
     ]
    },
    {
     "name": "stderr",
     "output_type": "stream",
     "text": [
      "  0%|          | 0/1 [00:00<?, ?it/s]"
     ]
    },
    {
     "name": "stdout",
     "output_type": "stream",
     "text": [
      "cluster_size:  4153\n",
      "tensor([[1.0000, 0.3686, 0.3597,  ..., 0.3434, 0.3397, 0.3397],\n",
      "        [0.3686, 1.0000, 0.2797,  ..., 0.3177, 0.2977, 0.2977],\n",
      "        [0.3597, 0.2797, 1.0000,  ..., 0.2937, 0.2899, 0.2899],\n",
      "        ...,\n",
      "        [0.3434, 0.3177, 0.2937,  ..., 1.0000, 0.9905, 0.9905],\n",
      "        [0.3397, 0.2977, 0.2899,  ..., 0.9905, 1.0000, 1.0000],\n",
      "        [0.3397, 0.2977, 0.2899,  ..., 0.9905, 1.0000, 1.0000]])\n",
      "Step time: 0.08658647537231445(s)\n",
      "===================\n",
      "tensor([0.0000, 0.3686, 0.3597,  ..., 0.9797, 0.9905, 1.0000])\n",
      "===================\n"
     ]
    },
    {
     "name": "stderr",
     "output_type": "stream",
     "text": [
      "100%|██████████| 1/1 [00:00<00:00,  9.10it/s]\n"
     ]
    },
    {
     "name": "stdout",
     "output_type": "stream",
     "text": [
      "DONE cluster:  44\n",
      "STARTING JOB:  45\n",
      "This job will process clusters 45 to  46\n",
      "This task will process 1 clusters: cluster 45 to cluster 46\n",
      "This task will process cluster 45 to cluster 46\n"
     ]
    },
    {
     "name": "stderr",
     "output_type": "stream",
     "text": [
      "  0%|          | 0/1 [00:00<?, ?it/s]"
     ]
    },
    {
     "name": "stdout",
     "output_type": "stream",
     "text": [
      "cluster_size:  6433\n",
      "tensor([[1.0000, 0.9969, 0.7972,  ..., 0.1612, 0.1605, 0.2144],\n",
      "        [0.9969, 1.0000, 0.8025,  ..., 0.1656, 0.1629, 0.2236],\n",
      "        [0.7972, 0.8025, 1.0000,  ..., 0.1474, 0.1536, 0.2022],\n",
      "        ...,\n",
      "        [0.1612, 0.1656, 0.1474,  ..., 1.0000, 0.9438, 0.7554],\n",
      "        [0.1605, 0.1629, 0.1536,  ..., 0.9438, 1.0000, 0.7637],\n",
      "        [0.2144, 0.2236, 0.2022,  ..., 0.7554, 0.7637, 1.0000]])\n",
      "Step time: 0.09709811210632324(s)\n",
      "===================\n",
      "tensor([0.0000, 0.9969, 0.8025,  ..., 0.8458, 0.9438, 0.8450])\n",
      "===================\n"
     ]
    },
    {
     "name": "stderr",
     "output_type": "stream",
     "text": [
      "100%|██████████| 1/1 [00:00<00:00,  4.98it/s]\n"
     ]
    },
    {
     "name": "stdout",
     "output_type": "stream",
     "text": [
      "DONE cluster:  45\n",
      "STARTING JOB:  46\n",
      "This job will process clusters 46 to  47\n",
      "This task will process 1 clusters: cluster 46 to cluster 47\n",
      "This task will process cluster 46 to cluster 47\n"
     ]
    },
    {
     "name": "stderr",
     "output_type": "stream",
     "text": [
      "  0%|          | 0/1 [00:00<?, ?it/s]"
     ]
    },
    {
     "name": "stdout",
     "output_type": "stream",
     "text": [
      "cluster_size:  6300\n",
      "tensor([[1.0000, 0.1471, 0.2062,  ..., 0.2313, 0.2507, 0.2404],\n",
      "        [0.1471, 1.0000, 0.1805,  ..., 0.2368, 0.2094, 0.2775],\n",
      "        [0.2062, 0.1805, 1.0000,  ..., 0.2158, 0.2587, 0.2394],\n",
      "        ...,\n",
      "        [0.2313, 0.2368, 0.2158,  ..., 1.0000, 0.7253, 0.7257],\n",
      "        [0.2507, 0.2094, 0.2587,  ..., 0.7253, 1.0000, 0.8175],\n",
      "        [0.2404, 0.2775, 0.2394,  ..., 0.7257, 0.8175, 1.0000]])\n",
      "Step time: 0.09679317474365234(s)\n",
      "===================\n",
      "tensor([0.0000, 0.1471, 0.2062,  ..., 0.8578, 0.8100, 0.8412])\n",
      "===================\n"
     ]
    },
    {
     "name": "stderr",
     "output_type": "stream",
     "text": [
      "100%|██████████| 1/1 [00:00<00:00,  5.07it/s]"
     ]
    },
    {
     "name": "stdout",
     "output_type": "stream",
     "text": [
      "DONE cluster:  46\n"
     ]
    },
    {
     "name": "stderr",
     "output_type": "stream",
     "text": [
      "100%|██████████| 1/1 [00:00<00:00,  5.06it/s]\n"
     ]
    },
    {
     "name": "stdout",
     "output_type": "stream",
     "text": [
      "STARTING JOB:  47\n",
      "This job will process clusters 47 to  48\n",
      "This task will process 1 clusters: cluster 47 to cluster 48\n",
      "This task will process cluster 47 to cluster 48\n"
     ]
    },
    {
     "name": "stderr",
     "output_type": "stream",
     "text": [
      "  0%|          | 0/1 [00:00<?, ?it/s]"
     ]
    },
    {
     "name": "stdout",
     "output_type": "stream",
     "text": [
      "cluster_size:  1576\n"
     ]
    },
    {
     "name": "stderr",
     "output_type": "stream",
     "text": [
      "100%|██████████| 1/1 [00:00<00:00, 11.06it/s]\n"
     ]
    },
    {
     "name": "stdout",
     "output_type": "stream",
     "text": [
      "tensor([[1.0000, 0.2059, 0.2877,  ..., 0.4701, 0.2976, 0.2970],\n",
      "        [0.2059, 1.0000, 0.3277,  ..., 0.3866, 0.3182, 0.3328],\n",
      "        [0.2877, 0.3277, 1.0000,  ..., 0.2943, 0.2480, 0.2377],\n",
      "        ...,\n",
      "        [0.4701, 0.3866, 0.2943,  ..., 1.0000, 0.5916, 0.6105],\n",
      "        [0.2976, 0.3182, 0.2480,  ..., 0.5916, 1.0000, 0.7228],\n",
      "        [0.2970, 0.3328, 0.2377,  ..., 0.6105, 0.7228, 1.0000]])\n",
      "Step time: 0.07932114601135254(s)\n",
      "===================\n",
      "tensor([0.0000, 0.2059, 0.3277,  ..., 0.7294, 0.7713, 0.8193])\n",
      "===================\n",
      "DONE cluster:  47\n",
      "STARTING JOB:  48\n",
      "This job will process clusters 48 to  49\n",
      "This task will process 1 clusters: cluster 48 to cluster 49\n",
      "This task will process cluster 48 to cluster 49\n"
     ]
    },
    {
     "name": "stderr",
     "output_type": "stream",
     "text": [
      "  0%|          | 0/1 [00:00<?, ?it/s]"
     ]
    },
    {
     "name": "stdout",
     "output_type": "stream",
     "text": [
      "cluster_size:  8717\n",
      "tensor([[1.0000, 0.2269, 0.2367,  ..., 0.3736, 0.3433, 0.3916],\n",
      "        [0.2269, 1.0000, 0.3272,  ..., 0.3653, 0.3334, 0.3800],\n",
      "        [0.2367, 0.3272, 1.0000,  ..., 0.3795, 0.4669, 0.4700],\n",
      "        ...,\n",
      "        [0.3736, 0.3653, 0.3795,  ..., 1.0000, 0.8473, 0.8493],\n",
      "        [0.3433, 0.3334, 0.4669,  ..., 0.8473, 1.0000, 0.9479],\n",
      "        [0.3916, 0.3800, 0.4700,  ..., 0.8493, 0.9479, 1.0000]])\n"
     ]
    },
    {
     "name": "stderr",
     "output_type": "stream",
     "text": [
      "100%|██████████| 1/1 [00:00<00:00,  3.34it/s]\n"
     ]
    },
    {
     "name": "stdout",
     "output_type": "stream",
     "text": [
      "Step time: 0.192291259765625(s)\n",
      "===================\n",
      "tensor([0.0000, 0.2269, 0.3272,  ..., 0.9574, 0.9613, 0.9766])\n",
      "===================\n",
      "DONE cluster:  48\n",
      "STARTING JOB:  49\n",
      "This job will process clusters 49 to  50\n",
      "This task will process 1 clusters: cluster 49 to cluster 50\n",
      "This task will process cluster 49 to cluster 50\n"
     ]
    },
    {
     "name": "stderr",
     "output_type": "stream",
     "text": [
      "100%|██████████| 1/1 [00:00<00:00, 89.36it/s]\n"
     ]
    },
    {
     "name": "stdout",
     "output_type": "stream",
     "text": [
      "cluster_size:  1225\n",
      "tensor([[1.0000, 0.9815, 0.1168,  ..., 0.3038, 0.2909, 0.3053],\n",
      "        [0.9815, 1.0000, 0.1090,  ..., 0.3112, 0.2848, 0.3129],\n",
      "        [0.1168, 0.1090, 1.0000,  ..., 0.2672, 0.3646, 0.2721],\n",
      "        ...,\n",
      "        [0.3038, 0.3112, 0.2672,  ..., 1.0000, 0.5651, 0.9706],\n",
      "        [0.2909, 0.2848, 0.3646,  ..., 0.5651, 1.0000, 0.5593],\n",
      "        [0.3053, 0.3129, 0.2721,  ..., 0.9706, 0.5593, 1.0000]])\n",
      "Step time: 0.0019714832305908203(s)\n",
      "===================\n",
      "tensor([0.0000, 0.9815, 0.1168,  ..., 0.9791, 0.9494, 0.9876])\n",
      "===================\n",
      "DONE cluster:  49\n",
      "STARTING JOB:  50\n",
      "This job will process clusters 50 to  51\n",
      "This task will process 1 clusters: cluster 50 to cluster 51\n",
      "This task will process cluster 50 to cluster 51\n"
     ]
    },
    {
     "name": "stderr",
     "output_type": "stream",
     "text": [
      "  0%|          | 0/1 [00:00<?, ?it/s]"
     ]
    },
    {
     "name": "stdout",
     "output_type": "stream",
     "text": [
      "cluster_size:  13296\n"
     ]
    },
    {
     "name": "stderr",
     "output_type": "stream",
     "text": [
      "100%|██████████| 1/1 [00:00<00:00,  1.99it/s]\n"
     ]
    },
    {
     "name": "stdout",
     "output_type": "stream",
     "text": [
      "tensor([[1.0000, 0.9953, 0.7734,  ..., 0.3498, 0.2799, 0.2760],\n",
      "        [0.9953, 1.0000, 0.7844,  ..., 0.3518, 0.2906, 0.2889],\n",
      "        [0.7734, 0.7844, 1.0000,  ..., 0.3574, 0.3051, 0.3112],\n",
      "        ...,\n",
      "        [0.3498, 0.3518, 0.3574,  ..., 1.0000, 0.7849, 0.8302],\n",
      "        [0.2799, 0.2906, 0.3051,  ..., 0.7849, 1.0000, 0.8271],\n",
      "        [0.2760, 0.2889, 0.3112,  ..., 0.8302, 0.8271, 1.0000]])\n",
      "Step time: 0.30202245712280273(s)\n",
      "===================\n",
      "tensor([0.0000, 0.9953, 0.7844,  ..., 0.9058, 0.7955, 0.8737])\n",
      "===================\n",
      "DONE cluster:  50\n",
      "STARTING JOB:  51\n",
      "This job will process clusters 51 to  52\n",
      "This task will process 1 clusters: cluster 51 to cluster 52\n",
      "This task will process cluster 51 to cluster 52\n"
     ]
    },
    {
     "name": "stderr",
     "output_type": "stream",
     "text": [
      "  0%|          | 0/1 [00:00<?, ?it/s]"
     ]
    },
    {
     "name": "stdout",
     "output_type": "stream",
     "text": [
      "cluster_size:  11435\n",
      "tensor([[1.0000, 0.1471, 0.1474,  ..., 0.2760, 0.3064, 0.2075],\n",
      "        [0.1471, 1.0000, 0.9996,  ..., 0.3975, 0.4190, 0.3494],\n",
      "        [0.1474, 0.9996, 1.0000,  ..., 0.3964, 0.4177, 0.3484],\n",
      "        ...,\n",
      "        [0.2760, 0.3975, 0.3964,  ..., 1.0000, 0.8767, 0.8728],\n",
      "        [0.3064, 0.4190, 0.4177,  ..., 0.8767, 1.0000, 0.8688],\n",
      "        [0.2075, 0.3494, 0.3484,  ..., 0.8728, 0.8688, 1.0000]])\n"
     ]
    },
    {
     "name": "stderr",
     "output_type": "stream",
     "text": [
      "100%|██████████| 1/1 [00:00<00:00,  2.45it/s]\n"
     ]
    },
    {
     "name": "stdout",
     "output_type": "stream",
     "text": [
      "Step time: 0.2809007167816162(s)\n",
      "===================\n",
      "tensor([0.0000, 0.1471, 0.9996,  ..., 0.9004, 0.9019, 0.8955])\n",
      "===================\n",
      "DONE cluster:  51\n",
      "STARTING JOB:  52\n",
      "This job will process clusters 52 to  53\n",
      "This task will process 1 clusters: cluster 52 to cluster 53\n",
      "This task will process cluster 52 to cluster 53\n"
     ]
    },
    {
     "name": "stderr",
     "output_type": "stream",
     "text": [
      "  0%|          | 0/1 [00:00<?, ?it/s]"
     ]
    },
    {
     "name": "stdout",
     "output_type": "stream",
     "text": [
      "cluster_size:  15380\n",
      "tensor([[1.0000, 0.2019, 0.9278,  ..., 0.3165, 0.2918, 0.2810],\n",
      "        [0.2019, 1.0000, 0.2105,  ..., 0.2981, 0.3917, 0.3875],\n",
      "        [0.9278, 0.2105, 1.0000,  ..., 0.3455, 0.3478, 0.3113],\n",
      "        ...,\n",
      "        [0.3165, 0.2981, 0.3455,  ..., 1.0000, 0.7677, 0.8052],\n",
      "        [0.2918, 0.3917, 0.3478,  ..., 0.7677, 1.0000, 0.8334],\n",
      "        [0.2810, 0.3875, 0.3113,  ..., 0.8052, 0.8334, 1.0000]])\n",
      "Step time: 0.4648730754852295(s)\n",
      "===================\n",
      "tensor([0.0000, 0.2019, 0.9278,  ..., 0.8624, 0.8910, 0.9046])\n",
      "===================\n"
     ]
    },
    {
     "name": "stderr",
     "output_type": "stream",
     "text": [
      "100%|██████████| 1/1 [00:00<00:00,  1.67it/s]\n"
     ]
    },
    {
     "name": "stdout",
     "output_type": "stream",
     "text": [
      "DONE cluster:  52\n",
      "STARTING JOB:  53\n",
      "This job will process clusters 53 to  54\n",
      "This task will process 1 clusters: cluster 53 to cluster 54\n",
      "This task will process cluster 53 to cluster 54\n"
     ]
    },
    {
     "name": "stderr",
     "output_type": "stream",
     "text": [
      "100%|██████████| 1/1 [00:00<00:00, 45.58it/s]\n"
     ]
    },
    {
     "name": "stdout",
     "output_type": "stream",
     "text": [
      "cluster_size:  2531\n",
      "tensor([[1.0000, 0.5856, 0.4943,  ..., 0.2683, 0.1773, 0.3492],\n",
      "        [0.5856, 1.0000, 0.7827,  ..., 0.1893, 0.2211, 0.2161],\n",
      "        [0.4943, 0.7827, 1.0000,  ..., 0.1940, 0.1965, 0.1706],\n",
      "        ...,\n",
      "        [0.2683, 0.1893, 0.1940,  ..., 1.0000, 0.6801, 0.6919],\n",
      "        [0.1773, 0.2211, 0.1965,  ..., 0.6801, 1.0000, 0.5467],\n",
      "        [0.3492, 0.2161, 0.1706,  ..., 0.6919, 0.5467, 1.0000]])\n",
      "Step time: 0.005734682083129883(s)\n",
      "===================\n",
      "tensor([0.0000, 0.5856, 0.7827,  ..., 0.9423, 0.9828, 0.9462])\n",
      "===================\n",
      "DONE cluster:  53\n",
      "STARTING JOB:  54\n",
      "This job will process clusters 54 to  55\n",
      "This task will process 1 clusters: cluster 54 to cluster 55\n",
      "This task will process cluster 54 to cluster 55\n"
     ]
    },
    {
     "name": "stderr",
     "output_type": "stream",
     "text": [
      "  0%|          | 0/1 [00:00<?, ?it/s]"
     ]
    },
    {
     "name": "stdout",
     "output_type": "stream",
     "text": [
      "cluster_size:  5474\n",
      "tensor([[1.0000, 0.1423, 0.1644,  ..., 0.1744, 0.3511, 0.3316],\n",
      "        [0.1423, 1.0000, 0.2365,  ..., 0.3891, 0.3123, 0.3165],\n",
      "        [0.1644, 0.2365, 1.0000,  ..., 0.4457, 0.2088, 0.2331],\n",
      "        ...,\n",
      "        [0.1744, 0.3891, 0.4457,  ..., 1.0000, 0.5806, 0.5943],\n",
      "        [0.3511, 0.3123, 0.2088,  ..., 0.5806, 1.0000, 0.9784],\n",
      "        [0.3316, 0.3165, 0.2331,  ..., 0.5943, 0.9784, 1.0000]])\n"
     ]
    },
    {
     "name": "stderr",
     "output_type": "stream",
     "text": [
      "100%|██████████| 1/1 [00:00<00:00,  5.02it/s]\n"
     ]
    },
    {
     "name": "stdout",
     "output_type": "stream",
     "text": [
      "Step time: 0.09411478042602539(s)\n",
      "===================\n",
      "tensor([0.0000, 0.1423, 0.2365,  ..., 0.9725, 0.9815, 0.9846])\n",
      "===================\n",
      "DONE cluster:  54\n",
      "STARTING JOB:  55\n",
      "This job will process clusters 55 to  56\n",
      "This task will process 1 clusters: cluster 55 to cluster 56\n",
      "This task will process cluster 55 to cluster 56\n"
     ]
    },
    {
     "name": "stderr",
     "output_type": "stream",
     "text": [
      "  0%|          | 0/1 [00:00<?, ?it/s]"
     ]
    },
    {
     "name": "stdout",
     "output_type": "stream",
     "text": [
      "cluster_size:  7070\n",
      "tensor([[1.0000, 0.1706, 0.3643,  ..., 0.3222, 0.3116, 0.2927],\n",
      "        [0.1706, 1.0000, 0.1324,  ..., 0.2923, 0.3355, 0.3293],\n",
      "        [0.3643, 0.1324, 1.0000,  ..., 0.3750, 0.3623, 0.3623],\n",
      "        ...,\n",
      "        [0.3222, 0.2923, 0.3750,  ..., 1.0000, 0.7825, 0.8654],\n",
      "        [0.3116, 0.3355, 0.3623,  ..., 0.7825, 1.0000, 0.8065],\n",
      "        [0.2927, 0.3293, 0.3623,  ..., 0.8654, 0.8065, 1.0000]])\n"
     ]
    },
    {
     "name": "stderr",
     "output_type": "stream",
     "text": [
      "100%|██████████| 1/1 [00:00<00:00,  3.21it/s]\n"
     ]
    },
    {
     "name": "stdout",
     "output_type": "stream",
     "text": [
      "Step time: 0.20320487022399902(s)\n",
      "===================\n",
      "tensor([0.0000, 0.1706, 0.3643,  ..., 0.9843, 0.9861, 0.9931])\n",
      "===================\n",
      "DONE cluster:  55\n",
      "STARTING JOB:  56\n",
      "This job will process clusters 56 to  57\n",
      "This task will process 1 clusters: cluster 56 to cluster 57\n",
      "This task will process cluster 56 to cluster 57\n"
     ]
    },
    {
     "name": "stderr",
     "output_type": "stream",
     "text": [
      "  0%|          | 0/1 [00:00<?, ?it/s]"
     ]
    },
    {
     "name": "stdout",
     "output_type": "stream",
     "text": [
      "cluster_size:  4941\n",
      "tensor([[1.0000, 1.0000, 0.0894,  ..., 0.1467, 0.1873, 0.2522],\n",
      "        [1.0000, 1.0000, 0.0894,  ..., 0.1467, 0.1873, 0.2522],\n",
      "        [0.0894, 0.0894, 1.0000,  ..., 0.3662, 0.3902, 0.3764],\n",
      "        ...,\n",
      "        [0.1467, 0.1467, 0.3662,  ..., 1.0000, 0.7853, 0.6327],\n",
      "        [0.1873, 0.1873, 0.3902,  ..., 0.7853, 1.0000, 0.7370],\n",
      "        [0.2522, 0.2522, 0.3764,  ..., 0.6327, 0.7370, 1.0000]])\n"
     ]
    },
    {
     "name": "stderr",
     "output_type": "stream",
     "text": [
      "100%|██████████| 1/1 [00:00<00:00,  2.56it/s]\n"
     ]
    },
    {
     "name": "stdout",
     "output_type": "stream",
     "text": [
      "Step time: 0.20087742805480957(s)\n",
      "===================\n",
      "tensor([0.0000, 1.0000, 0.0894,  ..., 0.8366, 0.8624, 0.8254])\n",
      "===================\n",
      "DONE cluster:  56\n",
      "STARTING JOB:  57\n",
      "This job will process clusters 57 to  58\n",
      "This task will process 1 clusters: cluster 57 to cluster 58\n",
      "This task will process cluster 57 to cluster 58\n"
     ]
    },
    {
     "name": "stderr",
     "output_type": "stream",
     "text": [
      "  0%|          | 0/1 [00:00<?, ?it/s]"
     ]
    },
    {
     "name": "stdout",
     "output_type": "stream",
     "text": [
      "cluster_size:  6905\n"
     ]
    },
    {
     "name": "stderr",
     "output_type": "stream",
     "text": [
      "100%|██████████| 1/1 [00:00<00:00,  3.49it/s]\n"
     ]
    },
    {
     "name": "stdout",
     "output_type": "stream",
     "text": [
      "tensor([[1.0000, 0.3323, 0.1624,  ..., 0.2595, 0.2053, 0.2060],\n",
      "        [0.3323, 1.0000, 0.0737,  ..., 0.3159, 0.2118, 0.2492],\n",
      "        [0.1624, 0.0737, 1.0000,  ..., 0.1750, 0.2157, 0.1845],\n",
      "        ...,\n",
      "        [0.2595, 0.3159, 0.1750,  ..., 1.0000, 0.6941, 0.6695],\n",
      "        [0.2053, 0.2118, 0.2157,  ..., 0.6941, 1.0000, 0.6244],\n",
      "        [0.2060, 0.2492, 0.1845,  ..., 0.6695, 0.6244, 1.0000]])\n",
      "Step time: 0.09649825096130371(s)\n",
      "===================\n",
      "tensor([0.0000, 0.3323, 0.1624,  ..., 0.7210, 0.7882, 0.8645])\n",
      "===================\n",
      "DONE cluster:  57\n",
      "STARTING JOB:  58\n",
      "This job will process clusters 58 to  59\n",
      "This task will process 1 clusters: cluster 58 to cluster 59\n",
      "This task will process cluster 58 to cluster 59\n"
     ]
    },
    {
     "name": "stderr",
     "output_type": "stream",
     "text": [
      "  0%|          | 0/1 [00:00<?, ?it/s]"
     ]
    },
    {
     "name": "stdout",
     "output_type": "stream",
     "text": [
      "cluster_size:  2061\n",
      "tensor([[1.0000, 0.9999, 0.2327,  ..., 0.3410, 0.3677, 0.3385],\n",
      "        [0.9999, 1.0000, 0.2331,  ..., 0.3413, 0.3680, 0.3388],\n",
      "        [0.2327, 0.2331, 1.0000,  ..., 0.3392, 0.3754, 0.3627],\n",
      "        ...,\n",
      "        [0.3410, 0.3413, 0.3392,  ..., 1.0000, 0.8266, 0.9805],\n",
      "        [0.3677, 0.3680, 0.3754,  ..., 0.8266, 1.0000, 0.8362],\n",
      "        [0.3385, 0.3388, 0.3627,  ..., 0.9805, 0.8362, 1.0000]])\n",
      "Step time: 0.003383159637451172(s)\n",
      "===================\n",
      "tensor([0.0000, 0.9999, 0.2331,  ..., 0.9877, 0.9891, 0.9917])\n",
      "===================\n"
     ]
    },
    {
     "name": "stderr",
     "output_type": "stream",
     "text": [
      "100%|██████████| 1/1 [00:00<00:00, 59.90it/s]\n"
     ]
    },
    {
     "name": "stdout",
     "output_type": "stream",
     "text": [
      "DONE cluster:  58\n",
      "STARTING JOB:  59\n",
      "This job will process clusters 59 to  60\n",
      "This task will process 1 clusters: cluster 59 to cluster 60\n",
      "This task will process cluster 59 to cluster 60\n"
     ]
    },
    {
     "name": "stderr",
     "output_type": "stream",
     "text": [
      "  0%|          | 0/1 [00:00<?, ?it/s]"
     ]
    },
    {
     "name": "stdout",
     "output_type": "stream",
     "text": [
      "cluster_size:  4857\n",
      "tensor([[1.0000, 0.1909, 0.2160,  ..., 0.2115, 0.1874, 0.2162],\n",
      "        [0.1909, 1.0000, 0.1666,  ..., 0.2741, 0.1500, 0.3063],\n",
      "        [0.2160, 0.1666, 1.0000,  ..., 0.1319, 0.0610, 0.1947],\n",
      "        ...,\n",
      "        [0.2115, 0.2741, 0.1319,  ..., 1.0000, 0.7652, 0.9157],\n",
      "        [0.1874, 0.1500, 0.0610,  ..., 0.7652, 1.0000, 0.7294],\n",
      "        [0.2162, 0.3063, 0.1947,  ..., 0.9157, 0.7294, 1.0000]])\n",
      "Step time: 0.08967733383178711(s)\n",
      "===================\n",
      "tensor([0.0000, 0.1909, 0.2160,  ..., 0.9290, 0.9380, 0.9353])\n",
      "===================\n"
     ]
    },
    {
     "name": "stderr",
     "output_type": "stream",
     "text": [
      "100%|██████████| 1/1 [00:00<00:00,  5.23it/s]\n"
     ]
    },
    {
     "name": "stdout",
     "output_type": "stream",
     "text": [
      "DONE cluster:  59\n",
      "STARTING JOB:  60\n",
      "This job will process clusters 60 to  61\n",
      "This task will process 1 clusters: cluster 60 to cluster 61\n",
      "This task will process cluster 60 to cluster 61\n"
     ]
    },
    {
     "name": "stderr",
     "output_type": "stream",
     "text": [
      "  0%|          | 0/1 [00:00<?, ?it/s]"
     ]
    },
    {
     "name": "stdout",
     "output_type": "stream",
     "text": [
      "cluster_size:  2256\n"
     ]
    },
    {
     "name": "stderr",
     "output_type": "stream",
     "text": [
      "100%|██████████| 1/1 [00:00<00:00, 11.01it/s]\n"
     ]
    },
    {
     "name": "stdout",
     "output_type": "stream",
     "text": [
      "tensor([[1.0000, 0.2638, 0.2612,  ..., 0.3317, 0.3057, 0.3120],\n",
      "        [0.2638, 1.0000, 0.3460,  ..., 0.3629, 0.3817, 0.3694],\n",
      "        [0.2612, 0.3460, 1.0000,  ..., 0.3244, 0.2958, 0.3069],\n",
      "        ...,\n",
      "        [0.3317, 0.3629, 0.3244,  ..., 1.0000, 0.9253, 0.9605],\n",
      "        [0.3057, 0.3817, 0.2958,  ..., 0.9253, 1.0000, 0.9404],\n",
      "        [0.3120, 0.3694, 0.3069,  ..., 0.9605, 0.9404, 1.0000]])\n",
      "Step time: 0.0038008689880371094(s)\n",
      "===================\n",
      "tensor([0.0000, 0.2638, 0.3460,  ..., 0.9756, 0.9836, 0.9820])\n",
      "===================\n",
      "DONE cluster:  60\n",
      "STARTING JOB:  61\n",
      "This job will process clusters 61 to  62\n",
      "This task will process 1 clusters: cluster 61 to cluster 62\n",
      "This task will process cluster 61 to cluster 62\n"
     ]
    },
    {
     "name": "stderr",
     "output_type": "stream",
     "text": [
      "  0%|          | 0/1 [00:00<?, ?it/s]"
     ]
    },
    {
     "name": "stdout",
     "output_type": "stream",
     "text": [
      "cluster_size:  7351\n",
      "tensor([[1.0000, 0.2083, 0.1468,  ..., 0.2968, 0.3881, 0.3546],\n",
      "        [0.2083, 1.0000, 0.2099,  ..., 0.3624, 0.3304, 0.2994],\n",
      "        [0.1468, 0.2099, 1.0000,  ..., 0.3546, 0.3188, 0.3235],\n",
      "        ...,\n",
      "        [0.2968, 0.3624, 0.3546,  ..., 1.0000, 0.7346, 0.7708],\n",
      "        [0.3881, 0.3304, 0.3188,  ..., 0.7346, 1.0000, 0.9458],\n",
      "        [0.3546, 0.2994, 0.3235,  ..., 0.7708, 0.9458, 1.0000]])\n"
     ]
    },
    {
     "name": "stderr",
     "output_type": "stream",
     "text": [
      "100%|██████████| 1/1 [00:00<00:00,  4.71it/s]\n"
     ]
    },
    {
     "name": "stdout",
     "output_type": "stream",
     "text": [
      "Step time: 0.10296320915222168(s)\n",
      "===================\n",
      "tensor([0.0000, 0.2083, 0.2099,  ..., 0.9808, 0.9874, 0.9769])\n",
      "===================\n",
      "DONE cluster:  61\n",
      "STARTING JOB:  62\n",
      "This job will process clusters 62 to  63\n",
      "This task will process 1 clusters: cluster 62 to cluster 63\n",
      "This task will process cluster 62 to cluster 63\n"
     ]
    },
    {
     "name": "stderr",
     "output_type": "stream",
     "text": [
      "  0%|          | 0/1 [00:00<?, ?it/s]"
     ]
    },
    {
     "name": "stdout",
     "output_type": "stream",
     "text": [
      "cluster_size:  5785\n",
      "tensor([[1.0000, 0.0880, 0.3176,  ..., 0.2646, 0.3097, 0.3098],\n",
      "        [0.0880, 1.0000, 0.2139,  ..., 0.3085, 0.2894, 0.2896],\n",
      "        [0.3176, 0.2139, 1.0000,  ..., 0.3460, 0.2351, 0.2354],\n",
      "        ...,\n",
      "        [0.2646, 0.3085, 0.3460,  ..., 1.0000, 0.6725, 0.6730],\n",
      "        [0.3097, 0.2894, 0.2351,  ..., 0.6725, 1.0000, 1.0000],\n",
      "        [0.3098, 0.2896, 0.2354,  ..., 0.6730, 1.0000, 1.0000]])\n",
      "Step time: 0.09413671493530273(s)\n",
      "===================\n",
      "tensor([0.0000, 0.0880, 0.3176,  ..., 0.8618, 0.9876, 1.0000])\n",
      "===================\n"
     ]
    },
    {
     "name": "stderr",
     "output_type": "stream",
     "text": [
      "100%|██████████| 1/1 [00:00<00:00,  4.98it/s]\n"
     ]
    },
    {
     "name": "stdout",
     "output_type": "stream",
     "text": [
      "DONE cluster:  62\n",
      "STARTING JOB:  63\n",
      "This job will process clusters 63 to  64\n",
      "This task will process 1 clusters: cluster 63 to cluster 64\n",
      "This task will process cluster 63 to cluster 64\n"
     ]
    },
    {
     "name": "stderr",
     "output_type": "stream",
     "text": [
      "  0%|          | 0/1 [00:00<?, ?it/s]"
     ]
    },
    {
     "name": "stdout",
     "output_type": "stream",
     "text": [
      "cluster_size:  3154\n",
      "tensor([[1.0000, 0.2779, 0.2850,  ..., 0.4206, 0.4110, 0.4001],\n",
      "        [0.2779, 1.0000, 0.7144,  ..., 0.4666, 0.4687, 0.4795],\n",
      "        [0.2850, 0.7144, 1.0000,  ..., 0.5140, 0.5036, 0.5141],\n",
      "        ...,\n",
      "        [0.4206, 0.4666, 0.5140,  ..., 1.0000, 0.9554, 0.9581],\n",
      "        [0.4110, 0.4687, 0.5036,  ..., 0.9554, 1.0000, 0.9725],\n",
      "        [0.4001, 0.4795, 0.5141,  ..., 0.9581, 0.9725, 1.0000]])\n"
     ]
    },
    {
     "name": "stderr",
     "output_type": "stream",
     "text": [
      "100%|██████████| 1/1 [00:00<00:00, 10.51it/s]\n"
     ]
    },
    {
     "name": "stdout",
     "output_type": "stream",
     "text": [
      "Step time: 0.006522417068481445(s)\n",
      "===================\n",
      "tensor([0.0000, 0.2779, 0.7144,  ..., 0.9918, 0.9895, 0.9771])\n",
      "===================\n",
      "DONE cluster:  63\n",
      "STARTING JOB:  64\n",
      "This job will process clusters 64 to  65\n",
      "This task will process 1 clusters: cluster 64 to cluster 65\n",
      "This task will process cluster 64 to cluster 65\n"
     ]
    },
    {
     "name": "stderr",
     "output_type": "stream",
     "text": [
      "  0%|          | 0/1 [00:00<?, ?it/s]"
     ]
    },
    {
     "name": "stdout",
     "output_type": "stream",
     "text": [
      "cluster_size:  4174\n",
      "tensor([[1.0000, 0.1215, 0.1617,  ..., 0.1626, 0.2297, 0.3679],\n",
      "        [0.1215, 1.0000, 0.2020,  ..., 0.2349, 0.2219, 0.2724],\n",
      "        [0.1617, 0.2020, 1.0000,  ..., 0.2620, 0.2812, 0.2528],\n",
      "        ...,\n",
      "        [0.1626, 0.2349, 0.2620,  ..., 1.0000, 0.8069, 0.6671],\n",
      "        [0.2297, 0.2219, 0.2812,  ..., 0.8069, 1.0000, 0.7538],\n",
      "        [0.3679, 0.2724, 0.2528,  ..., 0.6671, 0.7538, 1.0000]])\n"
     ]
    },
    {
     "name": "stderr",
     "output_type": "stream",
     "text": [
      "100%|██████████| 1/1 [00:00<00:00,  9.23it/s]\n"
     ]
    },
    {
     "name": "stdout",
     "output_type": "stream",
     "text": [
      "Step time: 0.08540678024291992(s)\n",
      "===================\n",
      "tensor([0.0000, 0.1215, 0.2020,  ..., 0.7809, 0.9082, 0.9803])\n",
      "===================\n",
      "DONE cluster:  64\n",
      "STARTING JOB:  65\n",
      "This job will process clusters 65 to  66\n",
      "This task will process 1 clusters: cluster 65 to cluster 66\n",
      "This task will process cluster 65 to cluster 66\n"
     ]
    },
    {
     "name": "stderr",
     "output_type": "stream",
     "text": [
      "  0%|          | 0/1 [00:00<?, ?it/s]"
     ]
    },
    {
     "name": "stdout",
     "output_type": "stream",
     "text": [
      "cluster_size:  9052\n",
      "tensor([[1.0000, 1.0000, 0.1252,  ..., 0.3643, 0.3960, 0.3590],\n",
      "        [1.0000, 1.0000, 0.1252,  ..., 0.3643, 0.3960, 0.3590],\n",
      "        [0.1252, 0.1252, 1.0000,  ..., 0.2874, 0.2473, 0.3268],\n",
      "        ...,\n",
      "        [0.3643, 0.3643, 0.2874,  ..., 1.0000, 0.8925, 0.5704],\n",
      "        [0.3960, 0.3960, 0.2473,  ..., 0.8925, 1.0000, 0.5908],\n",
      "        [0.3590, 0.3590, 0.3268,  ..., 0.5704, 0.5908, 1.0000]])\n"
     ]
    },
    {
     "name": "stderr",
     "output_type": "stream",
     "text": [
      "100%|██████████| 1/1 [00:00<00:00,  3.31it/s]\n"
     ]
    },
    {
     "name": "stdout",
     "output_type": "stream",
     "text": [
      "Step time: 0.1895158290863037(s)\n",
      "===================\n",
      "tensor([0.0000, 1.0000, 0.1252,  ..., 0.9850, 0.9661, 0.7312])\n",
      "===================\n",
      "DONE cluster:  65\n",
      "STARTING JOB:  66\n",
      "This job will process clusters 66 to  67\n",
      "This task will process 1 clusters: cluster 66 to cluster 67\n",
      "This task will process cluster 66 to cluster 67\n"
     ]
    },
    {
     "name": "stderr",
     "output_type": "stream",
     "text": [
      "  0%|          | 0/1 [00:00<?, ?it/s]"
     ]
    },
    {
     "name": "stdout",
     "output_type": "stream",
     "text": [
      "cluster_size:  4665\n"
     ]
    },
    {
     "name": "stderr",
     "output_type": "stream",
     "text": [
      "100%|██████████| 1/1 [00:00<00:00,  5.40it/s]\n"
     ]
    },
    {
     "name": "stdout",
     "output_type": "stream",
     "text": [
      "tensor([[1.0000, 0.2406, 0.2314,  ..., 0.3364, 0.3445, 0.3760],\n",
      "        [0.2406, 1.0000, 0.2636,  ..., 0.4204, 0.4268, 0.4020],\n",
      "        [0.2314, 0.2636, 1.0000,  ..., 0.3446, 0.3681, 0.3573],\n",
      "        ...,\n",
      "        [0.3364, 0.4204, 0.3446,  ..., 1.0000, 0.7638, 0.7834],\n",
      "        [0.3445, 0.4268, 0.3681,  ..., 0.7638, 1.0000, 0.8643],\n",
      "        [0.3760, 0.4020, 0.3573,  ..., 0.7834, 0.8643, 1.0000]])\n",
      "Step time: 0.013675451278686523(s)\n",
      "===================\n",
      "tensor([0.0000, 0.2406, 0.2636,  ..., 0.8927, 0.8691, 0.9035])\n",
      "===================\n",
      "DONE cluster:  66\n",
      "STARTING JOB:  67\n",
      "This job will process clusters 67 to  68\n",
      "This task will process 1 clusters: cluster 67 to cluster 68\n",
      "This task will process cluster 67 to cluster 68\n"
     ]
    },
    {
     "name": "stderr",
     "output_type": "stream",
     "text": [
      "  0%|          | 0/1 [00:00<?, ?it/s]"
     ]
    },
    {
     "name": "stdout",
     "output_type": "stream",
     "text": [
      "cluster_size:  2195\n"
     ]
    },
    {
     "name": "stderr",
     "output_type": "stream",
     "text": [
      "100%|██████████| 1/1 [00:00<00:00, 10.88it/s]"
     ]
    },
    {
     "name": "stdout",
     "output_type": "stream",
     "text": [
      "tensor([[1.0000, 0.9538, 0.1142,  ..., 0.2206, 0.1946, 0.2233],\n",
      "        [0.9538, 1.0000, 0.0993,  ..., 0.2025, 0.2027, 0.2264],\n",
      "        [0.1142, 0.0993, 1.0000,  ..., 0.2773, 0.2894, 0.2572],\n",
      "        ...,\n",
      "        [0.2206, 0.2025, 0.2773,  ..., 1.0000, 0.6752, 0.8257],\n",
      "        [0.1946, 0.2027, 0.2894,  ..., 0.6752, 1.0000, 0.5959],\n",
      "        [0.2233, 0.2264, 0.2572,  ..., 0.8257, 0.5959, 1.0000]])\n",
      "Step time: 0.0043909549713134766(s)\n",
      "===================\n",
      "tensor([0.0000, 0.9538, 0.1142,  ..., 0.8249, 0.8125, 0.8882])\n",
      "===================\n",
      "DONE cluster:  67\n",
      "STARTING JOB:  68\n",
      "This job will process clusters 68 to  69\n",
      "This task will process 1 clusters: cluster 68 to cluster 69\n",
      "This task will process cluster 68 to cluster 69\n"
     ]
    },
    {
     "name": "stderr",
     "output_type": "stream",
     "text": [
      "\n",
      "  0%|          | 0/1 [00:00<?, ?it/s]"
     ]
    },
    {
     "name": "stdout",
     "output_type": "stream",
     "text": [
      "cluster_size:  7316\n"
     ]
    },
    {
     "name": "stderr",
     "output_type": "stream",
     "text": [
      "100%|██████████| 1/1 [00:00<00:00,  4.62it/s]\n"
     ]
    },
    {
     "name": "stdout",
     "output_type": "stream",
     "text": [
      "tensor([[1.0000, 1.0000, 0.9368,  ..., 0.2360, 0.2175, 0.1997],\n",
      "        [1.0000, 1.0000, 0.9368,  ..., 0.2360, 0.2175, 0.1997],\n",
      "        [0.9368, 0.9368, 1.0000,  ..., 0.2551, 0.2314, 0.2133],\n",
      "        ...,\n",
      "        [0.2360, 0.2360, 0.2551,  ..., 1.0000, 0.9175, 0.7026],\n",
      "        [0.2175, 0.2175, 0.2314,  ..., 0.9175, 1.0000, 0.6534],\n",
      "        [0.1997, 0.1997, 0.2133,  ..., 0.7026, 0.6534, 1.0000]])\n",
      "Step time: 0.1062307357788086(s)\n",
      "===================\n",
      "tensor([0.0000, 1.0000, 0.9368,  ..., 0.9585, 0.9308, 0.7026])\n",
      "===================\n",
      "DONE cluster:  68\n",
      "STARTING JOB:  69\n",
      "This job will process clusters 69 to  70\n",
      "This task will process 1 clusters: cluster 69 to cluster 70\n",
      "This task will process cluster 69 to cluster 70\n"
     ]
    },
    {
     "name": "stderr",
     "output_type": "stream",
     "text": [
      "  0%|          | 0/1 [00:00<?, ?it/s]"
     ]
    },
    {
     "name": "stdout",
     "output_type": "stream",
     "text": [
      "cluster_size:  7238\n"
     ]
    },
    {
     "name": "stderr",
     "output_type": "stream",
     "text": [
      "100%|██████████| 1/1 [00:00<00:00,  3.45it/s]"
     ]
    },
    {
     "name": "stdout",
     "output_type": "stream",
     "text": [
      "tensor([[1.0000, 0.0954, 0.2131,  ..., 0.2577, 0.2453, 0.3298],\n",
      "        [0.0954, 1.0000, 0.1556,  ..., 0.2070, 0.1679, 0.2066],\n",
      "        [0.2131, 0.1556, 1.0000,  ..., 0.2560, 0.2028, 0.2276],\n",
      "        ...,\n",
      "        [0.2577, 0.2070, 0.2560,  ..., 1.0000, 0.6510, 0.6941],\n",
      "        [0.2453, 0.1679, 0.2028,  ..., 0.6510, 1.0000, 0.6533],\n",
      "        [0.3298, 0.2066, 0.2276,  ..., 0.6941, 0.6533, 1.0000]])\n",
      "Step time: 0.1803302764892578(s)\n",
      "===================\n",
      "tensor([0.0000, 0.0954, 0.2131,  ..., 0.7671, 0.8091, 0.7701])\n",
      "===================\n",
      "DONE cluster:  69\n",
      "STARTING JOB:  70\n",
      "This job will process clusters 70 to  71\n",
      "This task will process 1 clusters: cluster 70 to cluster 71\n",
      "This task will process cluster 70 to cluster 71\n"
     ]
    },
    {
     "name": "stderr",
     "output_type": "stream",
     "text": [
      "\n",
      "  0%|          | 0/1 [00:00<?, ?it/s]"
     ]
    },
    {
     "name": "stdout",
     "output_type": "stream",
     "text": [
      "cluster_size:  7595\n",
      "tensor([[1.0000, 0.1956, 0.1282,  ..., 0.2814, 0.2441, 0.2153],\n",
      "        [0.1956, 1.0000, 0.3019,  ..., 0.3198, 0.2152, 0.3470],\n",
      "        [0.1282, 0.3019, 1.0000,  ..., 0.1479, 0.2970, 0.2066],\n",
      "        ...,\n",
      "        [0.2814, 0.3198, 0.1479,  ..., 1.0000, 0.6360, 0.7251],\n",
      "        [0.2441, 0.2152, 0.2970,  ..., 0.6360, 1.0000, 0.5607],\n",
      "        [0.2153, 0.3470, 0.2066,  ..., 0.7251, 0.5607, 1.0000]])\n",
      "Step time: 0.18869280815124512(s)\n",
      "===================\n",
      "tensor([0.0000, 0.1956, 0.3019,  ..., 0.7500, 0.7592, 0.7786])\n",
      "===================\n"
     ]
    },
    {
     "name": "stderr",
     "output_type": "stream",
     "text": [
      "100%|██████████| 1/1 [00:00<00:00,  3.39it/s]\n"
     ]
    },
    {
     "name": "stdout",
     "output_type": "stream",
     "text": [
      "DONE cluster:  70\n",
      "STARTING JOB:  71\n",
      "This job will process clusters 71 to  72\n",
      "This task will process 1 clusters: cluster 71 to cluster 72\n",
      "This task will process cluster 71 to cluster 72\n"
     ]
    },
    {
     "name": "stderr",
     "output_type": "stream",
     "text": [
      "  0%|          | 0/1 [00:00<?, ?it/s]"
     ]
    },
    {
     "name": "stdout",
     "output_type": "stream",
     "text": [
      "cluster_size:  9704\n",
      "tensor([[1.0000, 0.9987, 0.9978,  ..., 0.3172, 0.2937, 0.2895],\n",
      "        [0.9987, 1.0000, 0.9986,  ..., 0.3199, 0.2934, 0.2918],\n",
      "        [0.9978, 0.9986, 1.0000,  ..., 0.3238, 0.2959, 0.2977],\n",
      "        ...,\n",
      "        [0.3172, 0.3199, 0.3238,  ..., 1.0000, 0.7175, 0.7184],\n",
      "        [0.2937, 0.2934, 0.2959,  ..., 0.7175, 1.0000, 0.7020],\n",
      "        [0.2895, 0.2918, 0.2977,  ..., 0.7184, 0.7020, 1.0000]])\n"
     ]
    },
    {
     "name": "stderr",
     "output_type": "stream",
     "text": [
      "100%|██████████| 1/1 [00:00<00:00,  2.50it/s]\n"
     ]
    },
    {
     "name": "stdout",
     "output_type": "stream",
     "text": [
      "Step time: 0.27875804901123047(s)\n",
      "===================\n",
      "tensor([0.0000, 0.9987, 0.9986,  ..., 0.9285, 0.9671, 0.9055])\n",
      "===================\n",
      "DONE cluster:  71\n",
      "STARTING JOB:  72\n",
      "This job will process clusters 72 to  73\n",
      "This task will process 1 clusters: cluster 72 to cluster 73\n",
      "This task will process cluster 72 to cluster 73\n"
     ]
    },
    {
     "name": "stderr",
     "output_type": "stream",
     "text": [
      "  0%|          | 0/1 [00:00<?, ?it/s]"
     ]
    },
    {
     "name": "stdout",
     "output_type": "stream",
     "text": [
      "cluster_size:  2593\n",
      "tensor([[1.0000, 0.8846, 0.8442,  ..., 0.1163, 0.1163, 0.1163],\n",
      "        [0.8846, 1.0000, 0.9314,  ..., 0.1656, 0.1656, 0.1656],\n",
      "        [0.8442, 0.9314, 1.0000,  ..., 0.1825, 0.1825, 0.1825],\n",
      "        ...,\n",
      "        [0.1163, 0.1656, 0.1825,  ..., 1.0000, 1.0000, 1.0000],\n",
      "        [0.1163, 0.1656, 0.1825,  ..., 1.0000, 1.0000, 1.0000],\n",
      "        [0.1163, 0.1656, 0.1825,  ..., 1.0000, 1.0000, 1.0000]])\n"
     ]
    },
    {
     "name": "stderr",
     "output_type": "stream",
     "text": [
      "100%|██████████| 1/1 [00:00<00:00, 10.38it/s]\n"
     ]
    },
    {
     "name": "stdout",
     "output_type": "stream",
     "text": [
      "Step time: 0.0060117244720458984(s)\n",
      "===================\n",
      "tensor([0.0000, 0.8846, 0.9314,  ..., 0.9993, 1.0000, 1.0000])\n",
      "===================\n",
      "DONE cluster:  72\n",
      "STARTING JOB:  73\n",
      "This job will process clusters 73 to  74\n",
      "This task will process 1 clusters: cluster 73 to cluster 74\n",
      "This task will process cluster 73 to cluster 74\n"
     ]
    },
    {
     "name": "stderr",
     "output_type": "stream",
     "text": [
      "  0%|          | 0/1 [00:00<?, ?it/s]"
     ]
    },
    {
     "name": "stdout",
     "output_type": "stream",
     "text": [
      "cluster_size:  3169\n",
      "tensor([[1.0000, 0.9977, 0.1957,  ..., 0.3241, 0.3143, 0.3086],\n",
      "        [0.9977, 1.0000, 0.1975,  ..., 0.3253, 0.3206, 0.3147],\n",
      "        [0.1957, 0.1975, 1.0000,  ..., 0.4049, 0.3410, 0.3212],\n",
      "        ...,\n",
      "        [0.3241, 0.3253, 0.4049,  ..., 1.0000, 0.7428, 0.7986],\n",
      "        [0.3143, 0.3206, 0.3410,  ..., 0.7428, 1.0000, 0.8869],\n",
      "        [0.3086, 0.3147, 0.3212,  ..., 0.7986, 0.8869, 1.0000]])\n"
     ]
    },
    {
     "name": "stderr",
     "output_type": "stream",
     "text": [
      "100%|██████████| 1/1 [00:00<00:00,  9.68it/s]\n"
     ]
    },
    {
     "name": "stdout",
     "output_type": "stream",
     "text": [
      "Step time: 0.00702214241027832(s)\n",
      "===================\n",
      "tensor([0.0000, 0.9977, 0.1975,  ..., 0.7962, 0.8594, 0.8869])\n",
      "===================\n",
      "DONE cluster:  73\n",
      "STARTING JOB:  74\n",
      "This job will process clusters 74 to  75\n",
      "This task will process 1 clusters: cluster 74 to cluster 75\n",
      "This task will process cluster 74 to cluster 75\n"
     ]
    },
    {
     "name": "stderr",
     "output_type": "stream",
     "text": [
      "  0%|          | 0/1 [00:00<?, ?it/s]"
     ]
    },
    {
     "name": "stdout",
     "output_type": "stream",
     "text": [
      "cluster_size:  3550\n"
     ]
    },
    {
     "name": "stderr",
     "output_type": "stream",
     "text": [
      "100%|██████████| 1/1 [00:00<00:00,  8.94it/s]\n"
     ]
    },
    {
     "name": "stdout",
     "output_type": "stream",
     "text": [
      "tensor([[1.0000, 0.0842, 0.7742,  ..., 0.1279, 0.2117, 0.1739],\n",
      "        [0.0842, 1.0000, 0.1228,  ..., 0.2123, 0.2587, 0.1907],\n",
      "        [0.7742, 0.1228, 1.0000,  ..., 0.2062, 0.2732, 0.2335],\n",
      "        ...,\n",
      "        [0.1279, 0.2123, 0.2062,  ..., 1.0000, 0.7915, 0.8799],\n",
      "        [0.2117, 0.2587, 0.2732,  ..., 0.7915, 1.0000, 0.7856],\n",
      "        [0.1739, 0.1907, 0.2335,  ..., 0.8799, 0.7856, 1.0000]])\n",
      "Step time: 0.009510040283203125(s)\n",
      "===================\n",
      "tensor([0.0000, 0.0842, 0.7742,  ..., 0.9223, 0.9684, 0.9171])\n",
      "===================\n",
      "DONE cluster:  74\n",
      "STARTING JOB:  75\n",
      "This job will process clusters 75 to  76\n",
      "This task will process 1 clusters: cluster 75 to cluster 76\n",
      "This task will process cluster 75 to cluster 76\n"
     ]
    },
    {
     "name": "stderr",
     "output_type": "stream",
     "text": [
      "  0%|          | 0/1 [00:00<?, ?it/s]"
     ]
    },
    {
     "name": "stdout",
     "output_type": "stream",
     "text": [
      "cluster_size:  8698\n"
     ]
    },
    {
     "name": "stderr",
     "output_type": "stream",
     "text": [
      "100%|██████████| 1/1 [00:00<00:00,  2.56it/s]\n"
     ]
    },
    {
     "name": "stdout",
     "output_type": "stream",
     "text": [
      "tensor([[1.0000, 0.2012, 0.0915,  ..., 0.2225, 0.2743, 0.2524],\n",
      "        [0.2012, 1.0000, 0.1114,  ..., 0.2770, 0.3281, 0.3310],\n",
      "        [0.0915, 0.1114, 1.0000,  ..., 0.4060, 0.3149, 0.3335],\n",
      "        ...,\n",
      "        [0.2225, 0.2770, 0.4060,  ..., 1.0000, 0.7227, 0.6654],\n",
      "        [0.2743, 0.3281, 0.3149,  ..., 0.7227, 1.0000, 0.7008],\n",
      "        [0.2524, 0.3310, 0.3335,  ..., 0.6654, 0.7008, 1.0000]])\n",
      "Step time: 0.11453437805175781(s)\n",
      "===================\n",
      "tensor([0.0000, 0.2012, 0.1114,  ..., 0.8224, 0.7625, 0.7464])\n",
      "===================\n",
      "DONE cluster:  75\n",
      "STARTING JOB:  76\n",
      "This job will process clusters 76 to  77\n",
      "This task will process 1 clusters: cluster 76 to cluster 77\n",
      "This task will process cluster 76 to cluster 77\n"
     ]
    },
    {
     "name": "stderr",
     "output_type": "stream",
     "text": [
      "  0%|          | 0/1 [00:00<?, ?it/s]"
     ]
    },
    {
     "name": "stdout",
     "output_type": "stream",
     "text": [
      "cluster_size:  3177\n"
     ]
    },
    {
     "name": "stderr",
     "output_type": "stream",
     "text": [
      "100%|██████████| 1/1 [00:00<00:00,  9.81it/s]\n"
     ]
    },
    {
     "name": "stdout",
     "output_type": "stream",
     "text": [
      "tensor([[1.0000, 0.1666, 0.1963,  ..., 0.1902, 0.1470, 0.1865],\n",
      "        [0.1666, 1.0000, 0.3115,  ..., 0.3140, 0.2500, 0.2535],\n",
      "        [0.1963, 0.3115, 1.0000,  ..., 0.2303, 0.3406, 0.0924],\n",
      "        ...,\n",
      "        [0.1902, 0.3140, 0.2303,  ..., 1.0000, 0.5908, 0.4687],\n",
      "        [0.1470, 0.2500, 0.3406,  ..., 0.5908, 1.0000, 0.3420],\n",
      "        [0.1865, 0.2535, 0.0924,  ..., 0.4687, 0.3420, 1.0000]])\n",
      "Step time: 0.007990121841430664(s)\n",
      "===================\n",
      "tensor([0.0000, 0.1666, 0.3115,  ..., 0.8211, 0.7951, 0.9696])\n",
      "===================\n",
      "DONE cluster:  76\n",
      "STARTING JOB:  77\n",
      "This job will process clusters 77 to  78\n",
      "This task will process 1 clusters: cluster 77 to cluster 78\n",
      "This task will process cluster 77 to cluster 78\n"
     ]
    },
    {
     "name": "stderr",
     "output_type": "stream",
     "text": [
      "  0%|          | 0/1 [00:00<?, ?it/s]"
     ]
    },
    {
     "name": "stdout",
     "output_type": "stream",
     "text": [
      "cluster_size:  9851\n",
      "tensor([[1.0000, 0.2309, 0.7738,  ..., 0.2533, 0.1879, 0.2891],\n",
      "        [0.2309, 1.0000, 0.2856,  ..., 0.3851, 0.3691, 0.4060],\n",
      "        [0.7738, 0.2856, 1.0000,  ..., 0.3346, 0.3074, 0.3542],\n",
      "        ...,\n",
      "        [0.2533, 0.3851, 0.3346,  ..., 1.0000, 0.7429, 0.6734],\n",
      "        [0.1879, 0.3691, 0.3074,  ..., 0.7429, 1.0000, 0.7348],\n",
      "        [0.2891, 0.4060, 0.3542,  ..., 0.6734, 0.7348, 1.0000]])\n"
     ]
    },
    {
     "name": "stderr",
     "output_type": "stream",
     "text": [
      "100%|██████████| 1/1 [00:00<00:00,  2.50it/s]\n"
     ]
    },
    {
     "name": "stdout",
     "output_type": "stream",
     "text": [
      "Step time: 0.20546746253967285(s)\n",
      "===================\n",
      "tensor([0.0000, 0.2309, 0.7738,  ..., 0.8920, 0.9379, 0.8571])\n",
      "===================\n",
      "DONE cluster:  77\n",
      "STARTING JOB:  78\n",
      "This job will process clusters 78 to  79\n",
      "This task will process 1 clusters: cluster 78 to cluster 79\n",
      "This task will process cluster 78 to cluster 79\n"
     ]
    },
    {
     "name": "stderr",
     "output_type": "stream",
     "text": [
      "  0%|          | 0/1 [00:00<?, ?it/s]"
     ]
    },
    {
     "name": "stdout",
     "output_type": "stream",
     "text": [
      "cluster_size:  3779\n"
     ]
    },
    {
     "name": "stderr",
     "output_type": "stream",
     "text": [
      "100%|██████████| 1/1 [00:00<00:00,  9.29it/s]\n"
     ]
    },
    {
     "name": "stdout",
     "output_type": "stream",
     "text": [
      "tensor([[1.0000, 0.1276, 0.3203,  ..., 0.1649, 0.1508, 0.1912],\n",
      "        [0.1276, 1.0000, 0.1996,  ..., 0.1476, 0.3225, 0.2720],\n",
      "        [0.3203, 0.1996, 1.0000,  ..., 0.1593, 0.2064, 0.2799],\n",
      "        ...,\n",
      "        [0.1649, 0.1476, 0.1593,  ..., 1.0000, 0.6025, 0.5684],\n",
      "        [0.1508, 0.3225, 0.2064,  ..., 0.6025, 1.0000, 0.6592],\n",
      "        [0.1912, 0.2720, 0.2799,  ..., 0.5684, 0.6592, 1.0000]])\n",
      "Step time: 0.08489871025085449(s)\n",
      "===================\n",
      "tensor([0.0000, 0.1276, 0.3203,  ..., 0.8170, 0.8035, 0.7405])\n",
      "===================\n",
      "DONE cluster:  78\n",
      "STARTING JOB:  79\n",
      "This job will process clusters 79 to  80\n",
      "This task will process 1 clusters: cluster 79 to cluster 80\n",
      "This task will process cluster 79 to cluster 80\n"
     ]
    },
    {
     "name": "stderr",
     "output_type": "stream",
     "text": [
      "  0%|          | 0/1 [00:00<?, ?it/s]"
     ]
    },
    {
     "name": "stdout",
     "output_type": "stream",
     "text": [
      "cluster_size:  2756\n",
      "tensor([[1.0000, 0.0465, 0.0465,  ..., 0.1113, 0.1895, 0.1598],\n",
      "        [0.0465, 1.0000, 1.0000,  ..., 0.2382, 0.2633, 0.1153],\n",
      "        [0.0465, 1.0000, 1.0000,  ..., 0.2382, 0.2633, 0.1153],\n",
      "        ...,\n",
      "        [0.1113, 0.2382, 0.2382,  ..., 1.0000, 0.6837, 0.5324],\n",
      "        [0.1895, 0.2633, 0.2633,  ..., 0.6837, 1.0000, 0.4736],\n",
      "        [0.1598, 0.1153, 0.1153,  ..., 0.5324, 0.4736, 1.0000]])\n",
      "Step time: 0.08075261116027832(s)\n",
      "===================\n",
      "tensor([0.0000, 0.0465, 1.0000,  ..., 0.9629, 0.6995, 0.8275])\n",
      "===================\n"
     ]
    },
    {
     "name": "stderr",
     "output_type": "stream",
     "text": [
      "100%|██████████| 1/1 [00:00<00:00, 10.16it/s]\n"
     ]
    },
    {
     "name": "stdout",
     "output_type": "stream",
     "text": [
      "DONE cluster:  79\n",
      "STARTING JOB:  80\n",
      "This job will process clusters 80 to  81\n",
      "This task will process 1 clusters: cluster 80 to cluster 81\n",
      "This task will process cluster 80 to cluster 81\n"
     ]
    },
    {
     "name": "stderr",
     "output_type": "stream",
     "text": [
      "  0%|          | 0/1 [00:00<?, ?it/s]"
     ]
    },
    {
     "name": "stdout",
     "output_type": "stream",
     "text": [
      "cluster_size:  10287\n",
      "tensor([[1.0000, 0.2100, 0.2563,  ..., 0.2679, 0.3292, 0.3173],\n",
      "        [0.2100, 1.0000, 0.2541,  ..., 0.2592, 0.2671, 0.2433],\n",
      "        [0.2563, 0.2541, 1.0000,  ..., 0.2767, 0.2682, 0.2204],\n",
      "        ...,\n",
      "        [0.2679, 0.2592, 0.2767,  ..., 1.0000, 0.7835, 0.7815],\n",
      "        [0.3292, 0.2671, 0.2682,  ..., 0.7835, 1.0000, 0.8722],\n",
      "        [0.3173, 0.2433, 0.2204,  ..., 0.7815, 0.8722, 1.0000]])\n"
     ]
    },
    {
     "name": "stderr",
     "output_type": "stream",
     "text": [
      "100%|██████████| 1/1 [00:00<00:00,  2.45it/s]\n"
     ]
    },
    {
     "name": "stdout",
     "output_type": "stream",
     "text": [
      "Step time: 0.2073812484741211(s)\n",
      "===================\n",
      "tensor([0.0000, 0.2100, 0.2563,  ..., 0.9030, 0.9485, 0.8898])\n",
      "===================\n",
      "DONE cluster:  80\n",
      "STARTING JOB:  81\n",
      "This job will process clusters 81 to  82\n",
      "This task will process 1 clusters: cluster 81 to cluster 82\n",
      "This task will process cluster 81 to cluster 82\n"
     ]
    },
    {
     "name": "stderr",
     "output_type": "stream",
     "text": [
      "  0%|          | 0/1 [00:00<?, ?it/s]"
     ]
    },
    {
     "name": "stdout",
     "output_type": "stream",
     "text": [
      "cluster_size:  4626\n",
      "tensor([[1.0000, 0.3558, 0.1673,  ..., 0.2483, 0.2142, 0.1599],\n",
      "        [0.3558, 1.0000, 0.3024,  ..., 0.3500, 0.2981, 0.3111],\n",
      "        [0.1673, 0.3024, 1.0000,  ..., 0.3990, 0.2955, 0.3335],\n",
      "        ...,\n",
      "        [0.2483, 0.3500, 0.3990,  ..., 1.0000, 0.7902, 0.7731],\n",
      "        [0.2142, 0.2981, 0.2955,  ..., 0.7902, 1.0000, 0.8942],\n",
      "        [0.1599, 0.3111, 0.3335,  ..., 0.7731, 0.8942, 1.0000]])\n"
     ]
    },
    {
     "name": "stderr",
     "output_type": "stream",
     "text": [
      "100%|██████████| 1/1 [00:00<00:00,  4.81it/s]\n"
     ]
    },
    {
     "name": "stdout",
     "output_type": "stream",
     "text": [
      "Step time: 0.09969758987426758(s)\n",
      "===================\n",
      "tensor([0.0000, 0.3558, 0.3024,  ..., 0.8498, 0.8854, 0.9166])\n",
      "===================\n",
      "DONE cluster:  81\n",
      "STARTING JOB:  82\n",
      "This job will process clusters 82 to  83\n",
      "This task will process 1 clusters: cluster 82 to cluster 83\n",
      "This task will process cluster 82 to cluster 83\n"
     ]
    },
    {
     "name": "stderr",
     "output_type": "stream",
     "text": [
      "  0%|          | 0/1 [00:00<?, ?it/s]"
     ]
    },
    {
     "name": "stdout",
     "output_type": "stream",
     "text": [
      "cluster_size:  5504\n",
      "tensor([[1.0000, 0.1986, 0.1563,  ..., 0.2805, 0.2712, 0.2396],\n",
      "        [0.1986, 1.0000, 0.0660,  ..., 0.3467, 0.3228, 0.2574],\n",
      "        [0.1563, 0.0660, 1.0000,  ..., 0.2914, 0.2333, 0.1745],\n",
      "        ...,\n",
      "        [0.2805, 0.3467, 0.2914,  ..., 1.0000, 0.7120, 0.5528],\n",
      "        [0.2712, 0.3228, 0.2333,  ..., 0.7120, 1.0000, 0.5863],\n",
      "        [0.2396, 0.2574, 0.1745,  ..., 0.5528, 0.5863, 1.0000]])\n"
     ]
    },
    {
     "name": "stderr",
     "output_type": "stream",
     "text": [
      "100%|██████████| 1/1 [00:00<00:00,  5.01it/s]\n"
     ]
    },
    {
     "name": "stdout",
     "output_type": "stream",
     "text": [
      "Step time: 0.09435701370239258(s)\n",
      "===================\n",
      "tensor([0.0000, 0.1986, 0.1563,  ..., 0.7885, 0.9921, 0.7715])\n",
      "===================\n",
      "DONE cluster:  82\n",
      "STARTING JOB:  83\n",
      "This job will process clusters 83 to  84\n",
      "This task will process 1 clusters: cluster 83 to cluster 84\n",
      "This task will process cluster 83 to cluster 84\n"
     ]
    },
    {
     "name": "stderr",
     "output_type": "stream",
     "text": [
      "  0%|          | 0/1 [00:00<?, ?it/s]"
     ]
    },
    {
     "name": "stdout",
     "output_type": "stream",
     "text": [
      "cluster_size:  9094\n"
     ]
    },
    {
     "name": "stderr",
     "output_type": "stream",
     "text": [
      "100%|██████████| 1/1 [00:00<00:00,  2.48it/s]\n"
     ]
    },
    {
     "name": "stdout",
     "output_type": "stream",
     "text": [
      "tensor([[1.0000, 0.2023, 0.2310,  ..., 0.3281, 0.2773, 0.2651],\n",
      "        [0.2023, 1.0000, 0.2443,  ..., 0.3060, 0.2655, 0.2992],\n",
      "        [0.2310, 0.2443, 1.0000,  ..., 0.3481, 0.3365, 0.2945],\n",
      "        ...,\n",
      "        [0.3281, 0.3060, 0.3481,  ..., 1.0000, 0.8400, 0.8223],\n",
      "        [0.2773, 0.2655, 0.3365,  ..., 0.8400, 1.0000, 0.8293],\n",
      "        [0.2651, 0.2992, 0.2945,  ..., 0.8223, 0.8293, 1.0000]])\n",
      "Step time: 0.20695734024047852(s)\n",
      "===================\n",
      "tensor([0.0000, 0.2023, 0.2443,  ..., 0.8942, 0.9022, 0.8709])\n",
      "===================\n",
      "DONE cluster:  83\n",
      "STARTING JOB:  84\n",
      "This job will process clusters 84 to  85\n",
      "This task will process 1 clusters: cluster 84 to cluster 85\n",
      "This task will process cluster 84 to cluster 85\n"
     ]
    },
    {
     "name": "stderr",
     "output_type": "stream",
     "text": [
      "  0%|          | 0/1 [00:00<?, ?it/s]"
     ]
    },
    {
     "name": "stdout",
     "output_type": "stream",
     "text": [
      "cluster_size:  1393\n",
      "tensor([[1.0000, 0.7554, 0.7091,  ..., 0.6102, 0.6293, 0.6234],\n",
      "        [0.7554, 1.0000, 0.6992,  ..., 0.5982, 0.6054, 0.6092],\n",
      "        [0.7091, 0.6992, 1.0000,  ..., 0.6282, 0.6302, 0.6353],\n",
      "        ...,\n",
      "        [0.6102, 0.5982, 0.6282,  ..., 1.0000, 0.9720, 0.9636],\n",
      "        [0.6293, 0.6054, 0.6302,  ..., 0.9720, 1.0000, 0.9808],\n",
      "        [0.6234, 0.6092, 0.6353,  ..., 0.9636, 0.9808, 1.0000]])\n",
      "Step time: 0.0062503814697265625(s)\n",
      "===================\n",
      "tensor([0.0000, 0.7554, 0.7091,  ..., 0.9856, 0.9877, 0.9830])\n",
      "===================\n"
     ]
    },
    {
     "name": "stderr",
     "output_type": "stream",
     "text": [
      "100%|██████████| 1/1 [00:00<00:00, 10.59it/s]\n"
     ]
    },
    {
     "name": "stdout",
     "output_type": "stream",
     "text": [
      "DONE cluster:  84\n",
      "STARTING JOB:  85\n",
      "This job will process clusters 85 to  86\n",
      "This task will process 1 clusters: cluster 85 to cluster 86\n",
      "This task will process cluster 85 to cluster 86\n"
     ]
    },
    {
     "name": "stderr",
     "output_type": "stream",
     "text": [
      "  0%|          | 0/1 [00:00<?, ?it/s]"
     ]
    },
    {
     "name": "stdout",
     "output_type": "stream",
     "text": [
      "cluster_size:  5442\n",
      "tensor([[1.0000, 0.1796, 0.4933,  ..., 0.1944, 0.1892, 0.1896],\n",
      "        [0.1796, 1.0000, 0.2892,  ..., 0.2220, 0.1518, 0.2364],\n",
      "        [0.4933, 0.2892, 1.0000,  ..., 0.2413, 0.1766, 0.2439],\n",
      "        ...,\n",
      "        [0.1944, 0.2220, 0.2413,  ..., 1.0000, 0.6871, 0.8254],\n",
      "        [0.1892, 0.1518, 0.1766,  ..., 0.6871, 1.0000, 0.6732],\n",
      "        [0.1896, 0.2364, 0.2439,  ..., 0.8254, 0.6732, 1.0000]])\n",
      "Step time: 0.09762263298034668(s)\n",
      "===================\n",
      "tensor([0.0000, 0.1796, 0.4933,  ..., 0.9000, 0.8508, 0.9127])\n",
      "===================\n"
     ]
    },
    {
     "name": "stderr",
     "output_type": "stream",
     "text": [
      "100%|██████████| 1/1 [00:00<00:00,  4.98it/s]\n"
     ]
    },
    {
     "name": "stdout",
     "output_type": "stream",
     "text": [
      "DONE cluster:  85\n",
      "STARTING JOB:  86\n",
      "This job will process clusters 86 to  87\n",
      "This task will process 1 clusters: cluster 86 to cluster 87\n",
      "This task will process cluster 86 to cluster 87\n"
     ]
    },
    {
     "name": "stderr",
     "output_type": "stream",
     "text": [
      "  0%|          | 0/1 [00:00<?, ?it/s]"
     ]
    },
    {
     "name": "stdout",
     "output_type": "stream",
     "text": [
      "cluster_size:  17518\n",
      "tensor([[1.0000, 0.2269, 0.2191,  ..., 0.2709, 0.2917, 0.2860],\n",
      "        [0.2269, 1.0000, 0.2680,  ..., 0.3106, 0.3380, 0.3407],\n",
      "        [0.2191, 0.2680, 1.0000,  ..., 0.2871, 0.3310, 0.3001],\n",
      "        ...,\n",
      "        [0.2709, 0.3106, 0.2871,  ..., 1.0000, 0.7862, 0.8026],\n",
      "        [0.2917, 0.3380, 0.3310,  ..., 0.7862, 1.0000, 0.8673],\n",
      "        [0.2860, 0.3407, 0.3001,  ..., 0.8026, 0.8673, 1.0000]])\n"
     ]
    },
    {
     "name": "stderr",
     "output_type": "stream",
     "text": [
      "100%|██████████| 1/1 [00:00<00:00,  1.14it/s]\n"
     ]
    },
    {
     "name": "stdout",
     "output_type": "stream",
     "text": [
      "Step time: 0.579247236251831(s)\n",
      "===================\n",
      "tensor([0.0000, 0.2269, 0.2680,  ..., 0.9219, 0.8646, 0.9242])\n",
      "===================\n",
      "DONE cluster:  86\n",
      "STARTING JOB:  87\n",
      "This job will process clusters 87 to  88\n",
      "This task will process 1 clusters: cluster 87 to cluster 88\n",
      "This task will process cluster 87 to cluster 88\n"
     ]
    },
    {
     "name": "stderr",
     "output_type": "stream",
     "text": [
      "100%|██████████| 1/1 [00:00<00:00, 10.82it/s]\n"
     ]
    },
    {
     "name": "stdout",
     "output_type": "stream",
     "text": [
      "cluster_size:  1412\n",
      "tensor([[1.0000, 0.1544, 0.2476,  ..., 0.3118, 0.3497, 0.3772],\n",
      "        [0.1544, 1.0000, 0.7251,  ..., 0.4164, 0.4238, 0.3781],\n",
      "        [0.2476, 0.7251, 1.0000,  ..., 0.3780, 0.4185, 0.3991],\n",
      "        ...,\n",
      "        [0.3118, 0.4164, 0.3780,  ..., 1.0000, 0.9493, 0.8932],\n",
      "        [0.3497, 0.4238, 0.4185,  ..., 0.9493, 1.0000, 0.9328],\n",
      "        [0.3772, 0.3781, 0.3991,  ..., 0.8932, 0.9328, 1.0000]])\n",
      "Step time: 0.00731205940246582(s)\n",
      "===================\n",
      "tensor([0.0000, 0.1544, 0.7251,  ..., 0.9767, 0.9719, 0.9749])\n",
      "===================\n",
      "DONE cluster:  87\n",
      "STARTING JOB:  88\n",
      "This job will process clusters 88 to  89\n",
      "This task will process 1 clusters: cluster 88 to cluster 89\n",
      "This task will process cluster 88 to cluster 89\n"
     ]
    },
    {
     "name": "stderr",
     "output_type": "stream",
     "text": [
      "  0%|          | 0/1 [00:00<?, ?it/s]"
     ]
    },
    {
     "name": "stdout",
     "output_type": "stream",
     "text": [
      "cluster_size:  4348\n",
      "tensor([[1.0000, 0.1412, 0.1837,  ..., 0.3123, 0.3174, 0.3813],\n",
      "        [0.1412, 1.0000, 0.2306,  ..., 0.3788, 0.4110, 0.3836],\n",
      "        [0.1837, 0.2306, 1.0000,  ..., 0.3823, 0.4241, 0.3764],\n",
      "        ...,\n",
      "        [0.3123, 0.3788, 0.3823,  ..., 1.0000, 0.8239, 0.7694],\n",
      "        [0.3174, 0.4110, 0.4241,  ..., 0.8239, 1.0000, 0.8573],\n",
      "        [0.3813, 0.3836, 0.3764,  ..., 0.7694, 0.8573, 1.0000]])\n",
      "Step time: 0.08680009841918945(s)\n",
      "===================\n",
      "tensor([0.0000, 0.1412, 0.2306,  ..., 0.9397, 0.9548, 0.9587])\n",
      "===================\n"
     ]
    },
    {
     "name": "stderr",
     "output_type": "stream",
     "text": [
      "100%|██████████| 1/1 [00:00<00:00,  9.02it/s]\n"
     ]
    },
    {
     "name": "stdout",
     "output_type": "stream",
     "text": [
      "DONE cluster:  88\n",
      "STARTING JOB:  89\n",
      "This job will process clusters 89 to  90\n",
      "This task will process 1 clusters: cluster 89 to cluster 90\n",
      "This task will process cluster 89 to cluster 90\n"
     ]
    },
    {
     "name": "stderr",
     "output_type": "stream",
     "text": [
      "  0%|          | 0/1 [00:00<?, ?it/s]"
     ]
    },
    {
     "name": "stdout",
     "output_type": "stream",
     "text": [
      "cluster_size:  4545\n",
      "tensor([[1.0000, 0.2333, 0.1648,  ..., 0.2252, 0.2343, 0.2606],\n",
      "        [0.2333, 1.0000, 0.2108,  ..., 0.2911, 0.2755, 0.2801],\n",
      "        [0.1648, 0.2108, 1.0000,  ..., 0.3034, 0.3144, 0.3394],\n",
      "        ...,\n",
      "        [0.2252, 0.2911, 0.3034,  ..., 1.0000, 0.9529, 0.9616],\n",
      "        [0.2343, 0.2755, 0.3144,  ..., 0.9529, 1.0000, 0.9633],\n",
      "        [0.2606, 0.2801, 0.3394,  ..., 0.9616, 0.9633, 1.0000]])\n",
      "Step time: 0.09292912483215332(s)\n",
      "===================\n",
      "tensor([0.0000, 0.2333, 0.2108,  ..., 0.9828, 0.9821, 0.9841])\n",
      "===================\n"
     ]
    },
    {
     "name": "stderr",
     "output_type": "stream",
     "text": [
      "100%|██████████| 1/1 [00:00<00:00,  5.07it/s]"
     ]
    },
    {
     "name": "stdout",
     "output_type": "stream",
     "text": [
      "DONE cluster:  89\n"
     ]
    },
    {
     "name": "stderr",
     "output_type": "stream",
     "text": [
      "100%|██████████| 1/1 [00:00<00:00,  5.05it/s]\n"
     ]
    },
    {
     "name": "stdout",
     "output_type": "stream",
     "text": [
      "STARTING JOB:  90\n",
      "This job will process clusters 90 to  91\n",
      "This task will process 1 clusters: cluster 90 to cluster 91\n",
      "This task will process cluster 90 to cluster 91\n"
     ]
    },
    {
     "name": "stderr",
     "output_type": "stream",
     "text": [
      "  0%|          | 0/1 [00:00<?, ?it/s]"
     ]
    },
    {
     "name": "stdout",
     "output_type": "stream",
     "text": [
      "cluster_size:  4190\n",
      "tensor([[1.0000, 0.1276, 0.1692,  ..., 0.2348, 0.2025, 0.2885],\n",
      "        [0.1276, 1.0000, 0.1563,  ..., 0.3363, 0.3700, 0.2937],\n",
      "        [0.1692, 0.1563, 1.0000,  ..., 0.2832, 0.3191, 0.3039],\n",
      "        ...,\n",
      "        [0.2348, 0.3363, 0.2832,  ..., 1.0000, 0.8023, 0.7830],\n",
      "        [0.2025, 0.3700, 0.3191,  ..., 0.8023, 1.0000, 0.8081],\n",
      "        [0.2885, 0.2937, 0.3039,  ..., 0.7830, 0.8081, 1.0000]])\n",
      "Step time: 0.011926412582397461(s)\n",
      "===================\n",
      "tensor([0.0000, 0.1276, 0.1692,  ..., 0.8275, 0.8867, 0.8868])\n",
      "===================\n"
     ]
    },
    {
     "name": "stderr",
     "output_type": "stream",
     "text": [
      "100%|██████████| 1/1 [00:00<00:00,  5.34it/s]\n"
     ]
    },
    {
     "name": "stdout",
     "output_type": "stream",
     "text": [
      "DONE cluster:  90\n",
      "STARTING JOB:  91\n",
      "This job will process clusters 91 to  92\n",
      "This task will process 1 clusters: cluster 91 to cluster 92\n",
      "This task will process cluster 91 to cluster 92\n"
     ]
    },
    {
     "name": "stderr",
     "output_type": "stream",
     "text": [
      "  0%|          | 0/1 [00:00<?, ?it/s]"
     ]
    },
    {
     "name": "stdout",
     "output_type": "stream",
     "text": [
      "cluster_size:  6521\n"
     ]
    },
    {
     "name": "stderr",
     "output_type": "stream",
     "text": [
      "100%|██████████| 1/1 [00:00<00:00,  3.17it/s]\n"
     ]
    },
    {
     "name": "stdout",
     "output_type": "stream",
     "text": [
      "tensor([[1.0000, 0.1389, 0.0558,  ..., 0.2858, 0.2083, 0.1178],\n",
      "        [0.1389, 1.0000, 0.3207,  ..., 0.3175, 0.2875, 0.2408],\n",
      "        [0.0558, 0.3207, 1.0000,  ..., 0.2793, 0.3759, 0.3204],\n",
      "        ...,\n",
      "        [0.2858, 0.3175, 0.2793,  ..., 1.0000, 0.8516, 0.7584],\n",
      "        [0.2083, 0.2875, 0.3759,  ..., 0.8516, 1.0000, 0.7883],\n",
      "        [0.1178, 0.2408, 0.3204,  ..., 0.7584, 0.7883, 1.0000]])\n",
      "Step time: 0.20181894302368164(s)\n",
      "===================\n",
      "tensor([0.0000, 0.1389, 0.3207,  ..., 0.8734, 0.9248, 0.8119])\n",
      "===================\n",
      "DONE cluster:  91\n",
      "STARTING JOB:  92\n",
      "This job will process clusters 92 to  93\n",
      "This task will process 1 clusters: cluster 92 to cluster 93\n",
      "This task will process cluster 92 to cluster 93\n"
     ]
    },
    {
     "name": "stderr",
     "output_type": "stream",
     "text": [
      "  0%|          | 0/1 [00:00<?, ?it/s]"
     ]
    },
    {
     "name": "stdout",
     "output_type": "stream",
     "text": [
      "cluster_size:  10786\n"
     ]
    },
    {
     "name": "stderr",
     "output_type": "stream",
     "text": [
      "100%|██████████| 1/1 [00:00<00:00,  2.01it/s]"
     ]
    },
    {
     "name": "stdout",
     "output_type": "stream",
     "text": [
      "tensor([[1.0000, 0.1534, 0.2082,  ..., 0.2859, 0.3026, 0.2795],\n",
      "        [0.1534, 1.0000, 0.6150,  ..., 0.3087, 0.2981, 0.2813],\n",
      "        [0.2082, 0.6150, 1.0000,  ..., 0.2847, 0.3726, 0.3281],\n",
      "        ...,\n",
      "        [0.2859, 0.3087, 0.2847,  ..., 1.0000, 0.7927, 0.7820],\n",
      "        [0.3026, 0.2981, 0.3726,  ..., 0.7927, 1.0000, 0.8490],\n",
      "        [0.2795, 0.2813, 0.3281,  ..., 0.7820, 0.8490, 1.0000]])\n",
      "Step time: 0.2868058681488037(s)\n",
      "===================\n",
      "tensor([0.0000, 0.1534, 0.6150,  ..., 0.8588, 0.8646, 0.8490])\n",
      "===================\n",
      "DONE cluster:  92\n"
     ]
    },
    {
     "name": "stderr",
     "output_type": "stream",
     "text": [
      "\n"
     ]
    },
    {
     "name": "stdout",
     "output_type": "stream",
     "text": [
      "STARTING JOB:  93\n",
      "This job will process clusters 93 to  94\n",
      "This task will process 1 clusters: cluster 93 to cluster 94\n",
      "This task will process cluster 93 to cluster 94\n"
     ]
    },
    {
     "name": "stderr",
     "output_type": "stream",
     "text": [
      "100%|██████████| 1/1 [00:00<00:00,  5.07it/s]"
     ]
    },
    {
     "name": "stdout",
     "output_type": "stream",
     "text": [
      "cluster_size:  5485\n",
      "tensor([[1.0000, 0.1791, 0.3659,  ..., 0.3984, 0.4130, 0.4372],\n",
      "        [0.1791, 1.0000, 0.3122,  ..., 0.4291, 0.4076, 0.4171],\n",
      "        [0.3659, 0.3122, 1.0000,  ..., 0.4077, 0.4366, 0.4459],\n",
      "        ...,\n",
      "        [0.3984, 0.4291, 0.4077,  ..., 1.0000, 0.9496, 0.9230],\n",
      "        [0.4130, 0.4076, 0.4366,  ..., 0.9496, 1.0000, 0.9400],\n",
      "        [0.4372, 0.4171, 0.4459,  ..., 0.9230, 0.9400, 1.0000]])\n",
      "Step time: 0.018265247344970703(s)\n",
      "===================\n",
      "tensor([0.0000, 0.1791, 0.3659,  ..., 0.9616, 0.9649, 0.9607])\n",
      "===================\n",
      "DONE cluster:  93\n",
      "STARTING JOB:  94\n",
      "This job will process clusters 94 to  95\n",
      "This task will process 1 clusters: cluster 94 to cluster 95\n",
      "This task will process cluster 94 to cluster 95\n"
     ]
    },
    {
     "name": "stderr",
     "output_type": "stream",
     "text": [
      "\n",
      "  0%|          | 0/1 [00:00<?, ?it/s]"
     ]
    },
    {
     "name": "stdout",
     "output_type": "stream",
     "text": [
      "cluster_size:  4087\n"
     ]
    },
    {
     "name": "stderr",
     "output_type": "stream",
     "text": [
      "100%|██████████| 1/1 [00:00<00:00,  9.25it/s]\n"
     ]
    },
    {
     "name": "stdout",
     "output_type": "stream",
     "text": [
      "tensor([[1.0000, 0.1693, 0.0744,  ..., 0.2091, 0.3106, 0.2776],\n",
      "        [0.1693, 1.0000, 0.2172,  ..., 0.2928, 0.2804, 0.3264],\n",
      "        [0.0744, 0.2172, 1.0000,  ..., 0.2740, 0.3004, 0.3173],\n",
      "        ...,\n",
      "        [0.2091, 0.2928, 0.2740,  ..., 1.0000, 0.7229, 0.7429],\n",
      "        [0.3106, 0.2804, 0.3004,  ..., 0.7229, 1.0000, 0.9484],\n",
      "        [0.2776, 0.3264, 0.3173,  ..., 0.7429, 0.9484, 1.0000]])\n",
      "Step time: 0.08707833290100098(s)\n",
      "===================\n",
      "tensor([0.0000, 0.1693, 0.2172,  ..., 0.9877, 0.9801, 0.9615])\n",
      "===================\n",
      "DONE cluster:  94\n",
      "STARTING JOB:  95\n",
      "This job will process clusters 95 to  96\n",
      "This task will process 1 clusters: cluster 95 to cluster 96\n",
      "This task will process cluster 95 to cluster 96\n"
     ]
    },
    {
     "name": "stderr",
     "output_type": "stream",
     "text": [
      "  0%|          | 0/1 [00:00<?, ?it/s]"
     ]
    },
    {
     "name": "stdout",
     "output_type": "stream",
     "text": [
      "cluster_size:  14646\n",
      "tensor([[1.0000, 0.1463, 0.2443,  ..., 0.2223, 0.2918, 0.2377],\n",
      "        [0.1463, 1.0000, 0.1115,  ..., 0.2906, 0.2068, 0.2064],\n",
      "        [0.2443, 0.1115, 1.0000,  ..., 0.2284, 0.2759, 0.2761],\n",
      "        ...,\n",
      "        [0.2223, 0.2906, 0.2284,  ..., 1.0000, 0.5103, 0.5256],\n",
      "        [0.2918, 0.2068, 0.2759,  ..., 0.5103, 1.0000, 0.5723],\n",
      "        [0.2377, 0.2064, 0.2761,  ..., 0.5256, 0.5723, 1.0000]])\n",
      "Step time: 0.40659475326538086(s)\n",
      "===================\n",
      "tensor([0.0000, 0.1463, 0.2443,  ..., 0.9013, 0.8231, 0.9216])\n",
      "===================\n"
     ]
    },
    {
     "name": "stderr",
     "output_type": "stream",
     "text": [
      "100%|██████████| 1/1 [00:00<00:00,  1.45it/s]\n"
     ]
    },
    {
     "name": "stdout",
     "output_type": "stream",
     "text": [
      "DONE cluster:  95\n",
      "STARTING JOB:  96\n",
      "This job will process clusters 96 to  97\n",
      "This task will process 1 clusters: cluster 96 to cluster 97\n",
      "This task will process cluster 96 to cluster 97\n"
     ]
    },
    {
     "name": "stderr",
     "output_type": "stream",
     "text": [
      "  0%|          | 0/1 [00:00<?, ?it/s]"
     ]
    },
    {
     "name": "stdout",
     "output_type": "stream",
     "text": [
      "cluster_size:  12102\n",
      "tensor([[1.0000, 0.9962, 0.1869,  ..., 0.3188, 0.2861, 0.3072],\n",
      "        [0.9962, 1.0000, 0.1919,  ..., 0.3325, 0.3027, 0.3223],\n",
      "        [0.1869, 0.1919, 1.0000,  ..., 0.3334, 0.3004, 0.3531],\n",
      "        ...,\n",
      "        [0.3188, 0.3325, 0.3334,  ..., 1.0000, 0.7672, 0.7011],\n",
      "        [0.2861, 0.3027, 0.3004,  ..., 0.7672, 1.0000, 0.7653],\n",
      "        [0.3072, 0.3223, 0.3531,  ..., 0.7011, 0.7653, 1.0000]])\n"
     ]
    },
    {
     "name": "stderr",
     "output_type": "stream",
     "text": [
      "100%|██████████| 1/1 [00:00<00:00,  2.05it/s]\n"
     ]
    },
    {
     "name": "stdout",
     "output_type": "stream",
     "text": [
      "Step time: 0.28495192527770996(s)\n",
      "===================\n",
      "tensor([0.0000, 0.9962, 0.1919,  ..., 0.8518, 0.8199, 0.8575])\n",
      "===================\n",
      "DONE cluster:  96\n",
      "STARTING JOB:  97\n",
      "This job will process clusters 97 to  98\n",
      "This task will process 1 clusters: cluster 97 to cluster 98\n",
      "This task will process cluster 97 to cluster 98\n"
     ]
    },
    {
     "name": "stderr",
     "output_type": "stream",
     "text": [
      "100%|██████████| 1/1 [00:00<00:00, 10.63it/s]\n"
     ]
    },
    {
     "name": "stdout",
     "output_type": "stream",
     "text": [
      "cluster_size:  2137\n",
      "tensor([[1.0000, 0.2370, 0.1513,  ..., 0.2333, 0.2601, 0.2288],\n",
      "        [0.2370, 1.0000, 0.4159,  ..., 0.3077, 0.3513, 0.2970],\n",
      "        [0.1513, 0.4159, 1.0000,  ..., 0.2935, 0.3389, 0.3306],\n",
      "        ...,\n",
      "        [0.2333, 0.3077, 0.2935,  ..., 1.0000, 0.8345, 0.8026],\n",
      "        [0.2601, 0.3513, 0.3389,  ..., 0.8345, 1.0000, 0.8784],\n",
      "        [0.2288, 0.2970, 0.3306,  ..., 0.8026, 0.8784, 1.0000]])\n",
      "Step time: 0.004758119583129883(s)\n",
      "===================\n",
      "tensor([0.0000, 0.2370, 0.4159,  ..., 0.8896, 0.8761, 0.8784])\n",
      "===================\n",
      "DONE cluster:  97\n",
      "STARTING JOB:  98\n",
      "This job will process clusters 98 to  99\n",
      "This task will process 1 clusters: cluster 98 to cluster 99\n",
      "This task will process cluster 98 to cluster 99\n"
     ]
    },
    {
     "name": "stderr",
     "output_type": "stream",
     "text": [
      "  0%|          | 0/1 [00:00<?, ?it/s]"
     ]
    },
    {
     "name": "stdout",
     "output_type": "stream",
     "text": [
      "cluster_size:  5692\n"
     ]
    },
    {
     "name": "stderr",
     "output_type": "stream",
     "text": [
      "100%|██████████| 1/1 [00:00<00:00,  4.80it/s]\n"
     ]
    },
    {
     "name": "stdout",
     "output_type": "stream",
     "text": [
      "tensor([[1.0000, 0.9738, 0.7950,  ..., 0.3494, 0.2563, 0.3078],\n",
      "        [0.9738, 1.0000, 0.7953,  ..., 0.3482, 0.2479, 0.2960],\n",
      "        [0.7950, 0.7953, 1.0000,  ..., 0.3396, 0.2884, 0.2938],\n",
      "        ...,\n",
      "        [0.3494, 0.3482, 0.3396,  ..., 1.0000, 0.7344, 0.8098],\n",
      "        [0.2563, 0.2479, 0.2884,  ..., 0.7344, 1.0000, 0.7655],\n",
      "        [0.3078, 0.2960, 0.2938,  ..., 0.8098, 0.7655, 1.0000]])\n",
      "Step time: 0.10306119918823242(s)\n",
      "===================\n",
      "tensor([0.0000, 0.9738, 0.7953,  ..., 0.8978, 0.8538, 0.8787])\n",
      "===================\n",
      "DONE cluster:  98\n",
      "STARTING JOB:  99\n",
      "This job will process clusters 99 to  100\n",
      "This task will process 1 clusters: cluster 99 to cluster 100\n",
      "This task will process cluster 99 to cluster 100\n"
     ]
    },
    {
     "name": "stderr",
     "output_type": "stream",
     "text": [
      "  0%|          | 0/1 [00:00<?, ?it/s]"
     ]
    },
    {
     "name": "stdout",
     "output_type": "stream",
     "text": [
      "cluster_size:  1761\n"
     ]
    },
    {
     "name": "stderr",
     "output_type": "stream",
     "text": [
      "100%|██████████| 1/1 [00:00<00:00, 10.80it/s]"
     ]
    },
    {
     "name": "stdout",
     "output_type": "stream",
     "text": [
      "tensor([[1.0000, 0.0201, 0.1805,  ..., 0.2144, 0.2227, 0.2322],\n",
      "        [0.0201, 1.0000, 0.2156,  ..., 0.3467, 0.3551, 0.3477],\n",
      "        [0.1805, 0.2156, 1.0000,  ..., 0.2938, 0.3039, 0.3225],\n",
      "        ...,\n",
      "        [0.2144, 0.3467, 0.2938,  ..., 1.0000, 0.9821, 0.9527],\n",
      "        [0.2227, 0.3551, 0.3039,  ..., 0.9821, 1.0000, 0.9523],\n",
      "        [0.2322, 0.3477, 0.3225,  ..., 0.9527, 0.9523, 1.0000]])\n",
      "Step time: 0.0031685829162597656(s)\n",
      "===================\n",
      "tensor([0.0000, 0.0201, 0.2156,  ..., 0.9873, 0.9936, 0.9827])\n",
      "===================\n",
      "DONE cluster:  99\n"
     ]
    },
    {
     "name": "stderr",
     "output_type": "stream",
     "text": [
      "\n"
     ]
    }
   ],
   "source": [
    "import math\n",
    "import yaml\n",
    "\n",
    "\n",
    "save_dir = './sample_files'\n",
    "embs_memory_loc = f'{save_dir}/embeddings_memmap.dat'\n",
    "save_loc = f\"{save_dir}/results\"\n",
    "os.makedirs(save_loc, exist_ok=True)\n",
    "sorted_clusters_path = f'{save_dir}/sorted_clusters'\n",
    "eps_list = [0.0001,0.001, 0.01, 0.05, 0.1, 0.2, 0.3, 0.31, 0.32, 0.33, 0.34, 0.35, 0.4, 0.5, 0.9, 0.99]\n",
    "which_to_keep = 'hard'\n",
    "device = 'cpu'\n",
    "clusters_per_job = 1\n",
    "num_clusters = 100\n",
    "# dataset_size, emb_size  = all_features.shape\n",
    "dataset_size, emb_size  = (611934, 512)\n",
    "\n",
    "# 计算总的jobs数量\n",
    "total_jobs = math.ceil(num_clusters / clusters_per_job)\n",
    "\n",
    "# 定义参数结构\n",
    "from argparse import Namespace\n",
    "args = Namespace(\n",
    "    embs_memory_loc=embs_memory_loc,\n",
    "    save_loc=save_loc,\n",
    "    sorted_clusters_path=sorted_clusters_path,\n",
    "    eps_list=eps_list,\n",
    "    which_to_keep=which_to_keep,\n",
    "    device=device,\n",
    "    dataset_size=dataset_size,\n",
    "    emd_size=emb_size,\n",
    "    seed=1234,\n",
    "    clusters_per_job=clusters_per_job,\n",
    "    num_clusters=num_clusters\n",
    ")\n",
    "\n",
    "# 逐个处理cluster\n",
    "for job in range(total_jobs):\n",
    "    print('STARTING JOB: ', job)\n",
    "    exp = SemDeDupJob(\n",
    "        args=args,\n",
    "        job_start_cluster=job * clusters_per_job\n",
    "    )\n",
    "    exp()"
   ]
  },
  {
   "cell_type": "code",
   "execution_count": null,
   "metadata": {},
   "outputs": [],
   "source": [
    "import os\n",
    "import numpy as np\n",
    "import pandas as pd\n",
    "\n",
    "\n",
    "label_df = pd.read_csv('data_label.csv')\n",
    "\n",
    "label_dict = label_df.set_index('img_id')['label'].to_dict()\n",
    "\n",
    "os.makedirs('stratums', exist_ok=True)\n",
    "\n",
    "for cluster_num in range(100):\n",
    "    cluster_path = f'sorted_clusters/cluster_{cluster_num}.npy'\n",
    "    cluster_data = np.load(cluster_path, allow_pickle=True)\n",
    "\n",
    "    stratums = {}\n",
    "\n",
    "    # for each cluter\n",
    "    for item in cluster_data:\n",
    "        img_path, img_id, similarity, cluster_id = item\n",
    "\n",
    "        label = label_dict.get(img_id, None)\n",
    "        if label is not None:\n",
    "            new_item = [img_path, img_id, similarity, cluster_id, label]\n",
    "\n",
    "            # split to stratums\n",
    "            if label not in stratums:\n",
    "                stratums[label] = []\n",
    "            stratums[label].append(new_item)\n",
    "\n",
    "    # save stratums files\n",
    "    for label, stratum_data in stratums.items():\n",
    "        stratum_path = f'stratums/cluster_{cluster_num}_stratum_{label}.npy'\n",
    "        np.save(stratum_path, stratum_data)\n",
    "\n",
    "print(\"Stratum files have been generated and saved.\")\n"
   ]
  },
  {
   "cell_type": "code",
   "execution_count": 4,
   "metadata": {},
   "outputs": [],
   "source": [
    "import os\n",
    "from tqdm import tqdm\n",
    "import pickle\n",
    "import numpy as np\n",
    "\n",
    "\n",
    "def extract_pruned_data(\n",
    "    sorted_clusters_path,\n",
    "    semdedup_pruning_tables_path,\n",
    "    eps,\n",
    "    num_clusters,\n",
    "    output_txt_path,\n",
    "    retreive_kept_samples=True,\n",
    "):\n",
    "\n",
    "    ## -- list of paths to the examples we want to keep/remove.\n",
    "    example_paths = []\n",
    "\n",
    "    for cluster_id in tqdm(range(0, num_clusters)):\n",
    "\n",
    "        cluster_i = np.load(\n",
    "            os.path.join(sorted_clusters_path, f\"cluster_{cluster_id}.npy\")\n",
    "        )\n",
    "        with open(\n",
    "            f\"{semdedup_pruning_tables_path}/cluster_{cluster_id}.pkl\", \"rb\"\n",
    "        ) as file:\n",
    "            semdedup_pruning_tables = pickle.load(file)\n",
    "\n",
    "        ## -- See which examples to keep/remove from this cluster.\n",
    "        ## -- Use retreive_kept_samples=True when kept dataset size <= 50%. This will return a smaller output text file,\n",
    "        ## -- semdedup_pruning_tables contain True values for the examples to be removed.\n",
    "        images_to_keep_or_remove = semdedup_pruning_tables[f\"eps={eps}\"][\n",
    "            semdedup_pruning_tables[f\"eps={eps}\"] == (not retreive_kept_samples)\n",
    "        ].index.to_numpy()\n",
    "        if \"indices\" in semdedup_pruning_tables.columns:\n",
    "            cluster_i = cluster_i[semdedup_pruning_tables[\"indices\"]]\n",
    "        ## -- retrieve only the examples we want and add to the list.\n",
    "        dedup_cluster = cluster_i[images_to_keep_or_remove]\n",
    "        example_paths += dedup_cluster[:, IMAGE_NAME_INDEX].astype(\"<U200\").tolist()\n",
    "\n",
    "    with open(output_txt_path, \"w\") as fp:\n",
    "        fp.write(\"\\n\".join(example_paths))\n",
    "\n",
    "    print(f\"DONE saving {len(example_paths)} image paths\")\n",
    "\n",
    "    return\n"
   ]
  },
  {
   "cell_type": "code",
   "execution_count": 14,
   "metadata": {},
   "outputs": [
    {
     "name": "stderr",
     "output_type": "stream",
     "text": [
      "100%|██████████| 100/100 [00:01<00:00, 77.31it/s]"
     ]
    },
    {
     "name": "stdout",
     "output_type": "stream",
     "text": [
      "DONE saving 100540 image paths\n"
     ]
    },
    {
     "name": "stderr",
     "output_type": "stream",
     "text": [
      "\n"
     ]
    }
   ],
   "source": [
    "output_txt_path = f'{save_dir}/test.txt'\n",
    "semdedup_pruning_tables_path = f'{save_dir}/results'\n",
    "sorted_stratums_paths = f'{save_dir}/sorted_stratums'\n",
    "eps = 0.32\n",
    "num_clusters = 100\n",
    "extract_pruned_data(sorted_stratums_paths, semdedup_pruning_tables_path, eps, num_clusters, output_txt_path, retreive_kept_samples=True)"
   ]
  }
 ],
 "metadata": {
  "kernelspec": {
   "display_name": "Python 3.12.2 ('clip')",
   "language": "python",
   "name": "python3"
  },
  "language_info": {
   "codemirror_mode": {
    "name": "ipython",
    "version": 3
   },
   "file_extension": ".py",
   "mimetype": "text/x-python",
   "name": "python",
   "nbconvert_exporter": "python",
   "pygments_lexer": "ipython3",
   "version": "3.12.2"
  },
  "orig_nbformat": 4,
  "vscode": {
   "interpreter": {
    "hash": "2726036bdbf3c018c7aa8fb38355733681577f6caac7260587d4772c02eded9c"
   }
  }
 },
 "nbformat": 4,
 "nbformat_minor": 2
}
